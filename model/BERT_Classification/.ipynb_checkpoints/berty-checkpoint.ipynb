{
 "cells": [
  {
   "cell_type": "code",
   "execution_count": 1,
   "metadata": {},
   "outputs": [],
   "source": [
    "# !pip install nltk\n"
   ]
  },
  {
   "cell_type": "code",
   "execution_count": 2,
   "metadata": {},
   "outputs": [],
   "source": [
    "import numpy as np # linear algebra\n",
    "import re, os\n",
    "import pandas as pd # data processing, CSV file I/O (e.g. pd.read_csv)\n",
    "from sklearn.preprocessing import LabelEncoder\n",
    "from nltk.corpus import stopwords\n",
    "from sklearn.model_selection import train_test_split\n",
    "import tensorflow as tf"
   ]
  },
  {
   "cell_type": "code",
   "execution_count": 3,
   "metadata": {},
   "outputs": [],
   "source": [
    "import datetime\n",
    "from datetime import datetime"
   ]
  },
  {
   "cell_type": "code",
   "execution_count": 4,
   "metadata": {
    "scrolled": false
   },
   "outputs": [],
   "source": [
    "import tensorflow_hub as hub"
   ]
  },
  {
   "cell_type": "code",
   "execution_count": 5,
   "metadata": {},
   "outputs": [],
   "source": [
    "import tokenization"
   ]
  },
  {
   "cell_type": "code",
   "execution_count": 6,
   "metadata": {
    "scrolled": true
   },
   "outputs": [
    {
     "ename": "ImportError",
     "evalue": "cannot import name 'tokenization' from 'bert' (C:\\Users\\purani\\Anaconda3\\envs\\tensorflow\\lib\\site-packages\\bert\\__init__.py)",
     "output_type": "error",
     "traceback": [
      "\u001b[1;31m---------------------------------------------------------------------------\u001b[0m",
      "\u001b[1;31mImportError\u001b[0m                               Traceback (most recent call last)",
      "\u001b[1;32m<ipython-input-6-bde4c7bef334>\u001b[0m in \u001b[0;36m<module>\u001b[1;34m\u001b[0m\n\u001b[0;32m      1\u001b[0m \u001b[1;32mimport\u001b[0m \u001b[0moptimization\u001b[0m\u001b[1;33m\u001b[0m\u001b[1;33m\u001b[0m\u001b[0m\n\u001b[0;32m      2\u001b[0m \u001b[1;32mimport\u001b[0m \u001b[0mbert\u001b[0m\u001b[1;33m\u001b[0m\u001b[1;33m\u001b[0m\u001b[0m\n\u001b[1;32m----> 3\u001b[1;33m \u001b[1;32mfrom\u001b[0m \u001b[0mbert\u001b[0m \u001b[1;32mimport\u001b[0m \u001b[0mtokenization\u001b[0m\u001b[1;33m\u001b[0m\u001b[1;33m\u001b[0m\u001b[0m\n\u001b[0m",
      "\u001b[1;31mImportError\u001b[0m: cannot import name 'tokenization' from 'bert' (C:\\Users\\purani\\Anaconda3\\envs\\tensorflow\\lib\\site-packages\\bert\\__init__.py)"
     ]
    }
   ],
   "source": [
    "import optimization\n",
    "import bert\n",
    "from bert import tokenization"
   ]
  },
  {
   "cell_type": "code",
   "execution_count": 7,
   "metadata": {},
   "outputs": [
    {
     "data": {
      "text/plain": [
       "'2.3.0'"
      ]
     },
     "execution_count": 7,
     "metadata": {},
     "output_type": "execute_result"
    }
   ],
   "source": [
    "tf.__version__"
   ]
  },
  {
   "cell_type": "code",
   "execution_count": 8,
   "metadata": {},
   "outputs": [
    {
     "name": "stdout",
     "output_type": "stream",
     "text": [
      "Directory:  C:\\Users\\purani\\Desktop\\SilverTouch\\video\\DMS\n",
      "Subdir:  C:\\Users\\purani\\Desktop\\SilverTouch\\video\\DMS\n"
     ]
    }
   ],
   "source": [
    "# Get the file details\n",
    "directory = []\n",
    "file = []\n",
    "title = []\n",
    "text = []\n",
    "label = []\n",
    "# datapath = r'C:\\Users\\Anindya\\Desktop\\Silver Touch Projects\\docs'\n",
    "datapath = r'C:\\Users\\purani\\Desktop\\SilverTouch\\video\\DMS'\n",
    "for dirname, _ , filenames in os.walk(datapath):\n",
    "    print('Directory: ', dirname)\n",
    "    print('Subdir: ', dirname.split('/')[-1])\n",
    "#     remove the Readme.txt file\n",
    "    # will not find file in the second iteration so we skip the error\n",
    "    try:\n",
    "        filenames.remove('README.TXT')\n",
    "    except:\n",
    "        pass\n",
    "    for filename in filenames:\n",
    "        directory.append(dirname)\n",
    "        file.append(filename)\n",
    "        label.append(dirname.split('/')[-1])\n",
    "        fullpathfile = os.path.join(dirname,filename)\n",
    "        with open(fullpathfile, 'r', encoding=\"utf8\", errors='ignore') as infile:\n",
    "            intext = ''\n",
    "            firstline = True\n",
    "            for line in infile:\n",
    "                if firstline:\n",
    "                    title.append(line.replace('\\n',''))\n",
    "                    firstline = False\n",
    "                else:\n",
    "                    intext = intext + ' ' + line.replace('\\n','')\n",
    "            text.append(intext)"
   ]
  },
  {
   "cell_type": "code",
   "execution_count": 9,
   "metadata": {},
   "outputs": [
    {
     "data": {
      "text/html": [
       "<div>\n",
       "<style scoped>\n",
       "    .dataframe tbody tr th:only-of-type {\n",
       "        vertical-align: middle;\n",
       "    }\n",
       "\n",
       "    .dataframe tbody tr th {\n",
       "        vertical-align: top;\n",
       "    }\n",
       "\n",
       "    .dataframe thead th {\n",
       "        text-align: right;\n",
       "    }\n",
       "</style>\n",
       "<table border=\"1\" class=\"dataframe\">\n",
       "  <thead>\n",
       "    <tr style=\"text-align: right;\">\n",
       "      <th></th>\n",
       "      <th>text</th>\n",
       "      <th>label</th>\n",
       "    </tr>\n",
       "  </thead>\n",
       "  <tbody>\n",
       "    <tr>\n",
       "      <th>0</th>\n",
       "      <td>% 1 0 obj &lt;&lt;/Type/Catalog/Pages 2 0 R/Lang(en...</td>\n",
       "      <td>C:\\Users\\purani\\Desktop\\SilverTouch\\video\\DMS</td>\n",
       "    </tr>\n",
       "    <tr>\n",
       "      <th>1</th>\n",
       "      <td>%dhi9hklfrp25 x\u0007\u0000\u000b",
       "\u0000\u0000\u0000\u0012\u0000\u0000\u0000t\u0010\u0000 1 0 obj &lt;&lt; /Prod...</td>\n",
       "      <td>C:\\Users\\purani\\Desktop\\SilverTouch\\video\\DMS</td>\n",
       "    </tr>\n",
       "    <tr>\n",
       "      <th>2</th>\n",
       "      <td>% 246 0 obj &lt;&lt;/Linearized 1/L 279886/O 248/E ...</td>\n",
       "      <td>C:\\Users\\purani\\Desktop\\SilverTouch\\video\\DMS</td>\n",
       "    </tr>\n",
       "    <tr>\n",
       "      <th>3</th>\n",
       "      <td>% 253 0 obj &lt;&lt;/Linearized 1/L 340798/O 255/E ...</td>\n",
       "      <td>C:\\Users\\purani\\Desktop\\SilverTouch\\video\\DMS</td>\n",
       "    </tr>\n",
       "    <tr>\n",
       "      <th>4</th>\n",
       "      <td>% 1 0 obj &lt;&lt;/Type/Catalog/Pages 2 0 R/Lang(en...</td>\n",
       "      <td>C:\\Users\\purani\\Desktop\\SilverTouch\\video\\DMS</td>\n",
       "    </tr>\n",
       "  </tbody>\n",
       "</table>\n",
       "</div>"
      ],
      "text/plain": [
       "                                                text  \\\n",
       "0   % 1 0 obj <</Type/Catalog/Pages 2 0 R/Lang(en...   \n",
       "1   %dhi9hklfrp25 x\u0007\u0000\n",
       "\u0000\u0000\u0000\u0012\u0000\u0000\u0000t\u0010\u0000 1 0 obj << /Prod...   \n",
       "2   % 246 0 obj <</Linearized 1/L 279886/O 248/E ...   \n",
       "3   % 253 0 obj <</Linearized 1/L 340798/O 255/E ...   \n",
       "4   % 1 0 obj <</Type/Catalog/Pages 2 0 R/Lang(en...   \n",
       "\n",
       "                                           label  \n",
       "0  C:\\Users\\purani\\Desktop\\SilverTouch\\video\\DMS  \n",
       "1  C:\\Users\\purani\\Desktop\\SilverTouch\\video\\DMS  \n",
       "2  C:\\Users\\purani\\Desktop\\SilverTouch\\video\\DMS  \n",
       "3  C:\\Users\\purani\\Desktop\\SilverTouch\\video\\DMS  \n",
       "4  C:\\Users\\purani\\Desktop\\SilverTouch\\video\\DMS  "
      ]
     },
     "execution_count": 9,
     "metadata": {},
     "output_type": "execute_result"
    }
   ],
   "source": [
    "DATA_COLUMN = 'text'\n",
    "LABEL_COLUMN = 'label'\n",
    "\n",
    "fulldf = pd.DataFrame(list(zip(directory, file, title, text, label)), \n",
    "               columns =['directory', 'file', 'title', 'text', 'label'])\n",
    "\n",
    "df = fulldf.filter(['text','label'], axis=1)\n",
    "df.head()"
   ]
  },
  {
   "cell_type": "code",
   "execution_count": 10,
   "metadata": {},
   "outputs": [
    {
     "data": {
      "text/plain": [
       "(26, 2)"
      ]
     },
     "execution_count": 10,
     "metadata": {},
     "output_type": "execute_result"
    }
   ],
   "source": [
    "df.shape"
   ]
  },
  {
   "cell_type": "code",
   "execution_count": 11,
   "metadata": {},
   "outputs": [
    {
     "data": {
      "text/plain": [
       "text     0\n",
       "label    0\n",
       "dtype: int64"
      ]
     },
     "execution_count": 11,
     "metadata": {},
     "output_type": "execute_result"
    }
   ],
   "source": [
    "df.isnull().sum()"
   ]
  },
  {
   "cell_type": "code",
   "execution_count": 12,
   "metadata": {},
   "outputs": [
    {
     "name": "stdout",
     "output_type": "stream",
     "text": [
      "C:\\Users\\purani\\Desktop\\SilverTouch\\video\\DMS\n"
     ]
    }
   ],
   "source": [
    "for label in np.unique(df['label']):\n",
    "    print(label)"
   ]
  },
  {
   "cell_type": "code",
   "execution_count": 13,
   "metadata": {},
   "outputs": [
    {
     "data": {
      "text/plain": [
       "<matplotlib.axes._subplots.AxesSubplot at 0x1d53e585cc8>"
      ]
     },
     "execution_count": 13,
     "metadata": {},
     "output_type": "execute_result"
    },
    {
     "data": {
      "image/png": "[encoded data removed]",
      "text/plain": [
       "<Figure size 432x288 with 1 Axes>"
      ]
     },
     "metadata": {
      "needs_background": "light"
     },
     "output_type": "display_data"
    }
   ],
   "source": [
    "# Checking number of records of each label\n",
    "df['label'].value_counts().sort_values(ascending=False).plot(kind='bar')"
   ]
  },
  {
   "cell_type": "code",
   "execution_count": 14,
   "metadata": {},
   "outputs": [
    {
     "data": {
      "text/html": [
       "<div>\n",
       "<style scoped>\n",
       "    .dataframe tbody tr th:only-of-type {\n",
       "        vertical-align: middle;\n",
       "    }\n",
       "\n",
       "    .dataframe tbody tr th {\n",
       "        vertical-align: top;\n",
       "    }\n",
       "\n",
       "    .dataframe thead th {\n",
       "        text-align: right;\n",
       "    }\n",
       "</style>\n",
       "<table border=\"1\" class=\"dataframe\">\n",
       "  <thead>\n",
       "    <tr style=\"text-align: right;\">\n",
       "      <th></th>\n",
       "      <th>text</th>\n",
       "      <th>label</th>\n",
       "    </tr>\n",
       "  </thead>\n",
       "  <tbody>\n",
       "    <tr>\n",
       "      <th>0</th>\n",
       "      <td>% 1 0 obj &lt;&lt;/Type/Catalog/Pages 2 0 R/Lang(en...</td>\n",
       "      <td>0</td>\n",
       "    </tr>\n",
       "    <tr>\n",
       "      <th>1</th>\n",
       "      <td>%dhi9hklfrp25 x\u0007\u0000\u000b",
       "\u0000\u0000\u0000\u0012\u0000\u0000\u0000t\u0010\u0000 1 0 obj &lt;&lt; /Prod...</td>\n",
       "      <td>0</td>\n",
       "    </tr>\n",
       "    <tr>\n",
       "      <th>2</th>\n",
       "      <td>% 246 0 obj &lt;&lt;/Linearized 1/L 279886/O 248/E ...</td>\n",
       "      <td>0</td>\n",
       "    </tr>\n",
       "    <tr>\n",
       "      <th>3</th>\n",
       "      <td>% 253 0 obj &lt;&lt;/Linearized 1/L 340798/O 255/E ...</td>\n",
       "      <td>0</td>\n",
       "    </tr>\n",
       "    <tr>\n",
       "      <th>4</th>\n",
       "      <td>% 1 0 obj &lt;&lt;/Type/Catalog/Pages 2 0 R/Lang(en...</td>\n",
       "      <td>0</td>\n",
       "    </tr>\n",
       "  </tbody>\n",
       "</table>\n",
       "</div>"
      ],
      "text/plain": [
       "                                                text  label\n",
       "0   % 1 0 obj <</Type/Catalog/Pages 2 0 R/Lang(en...      0\n",
       "1   %dhi9hklfrp25 x\u0007\u0000\n",
       "\u0000\u0000\u0000\u0012\u0000\u0000\u0000t\u0010\u0000 1 0 obj << /Prod...      0\n",
       "2   % 246 0 obj <</Linearized 1/L 279886/O 248/E ...      0\n",
       "3   % 253 0 obj <</Linearized 1/L 340798/O 255/E ...      0\n",
       "4   % 1 0 obj <</Type/Catalog/Pages 2 0 R/Lang(en...      0"
      ]
     },
     "execution_count": 14,
     "metadata": {},
     "output_type": "execute_result"
    }
   ],
   "source": [
    "le = LabelEncoder()\n",
    "df['label'] = le.fit_transform(df['label'])\n",
    "df.head()"
   ]
  },
  {
   "cell_type": "code",
   "execution_count": 15,
   "metadata": {},
   "outputs": [
    {
     "name": "stderr",
     "output_type": "stream",
     "text": [
      "[nltk_data] Downloading package stopwords to\n",
      "[nltk_data]     C:\\Users\\purani\\AppData\\Roaming\\nltk_data...\n",
      "[nltk_data]   Package stopwords is already up-to-date!\n"
     ]
    }
   ],
   "source": [
    "import nltk\n",
    "nltk.download('stopwords')\n",
    "REPLACE_BY_SPACE_RE = re.compile('[/(){}\\[\\]\\|@,;]')\n",
    "BAD_SYMBOLS_RE = re.compile('[^0-9a-z #+_]')\n",
    "STOPWORDS = set(stopwords.words('english'))\n",
    "\n",
    "def clean_text(text):\n",
    "    \"\"\"\n",
    "        text: a string\n",
    "        \n",
    "        return: modified initial string\n",
    "    \"\"\"\n",
    "    text = text.lower() # lowercase text\n",
    "    text = REPLACE_BY_SPACE_RE.sub(' ', text) # replace REPLACE_BY_SPACE_RE symbols by space in text. substitute the matched string in REPLACE_BY_SPACE_RE with space.\n",
    "    text = BAD_SYMBOLS_RE.sub('', text) # remove symbols which are in BAD_SYMBOLS_RE from text. substitute the matched string in BAD_SYMBOLS_RE with nothing. \n",
    "#     text = re.sub(r'\\W+', '', text)\n",
    "    text = ' '.join(word for word in text.split() if word not in STOPWORDS) # remove stopwors from text\n",
    "    return text"
   ]
  },
  {
   "cell_type": "code",
   "execution_count": 16,
   "metadata": {},
   "outputs": [
    {
     "data": {
      "text/html": [
       "<div>\n",
       "<style scoped>\n",
       "    .dataframe tbody tr th:only-of-type {\n",
       "        vertical-align: middle;\n",
       "    }\n",
       "\n",
       "    .dataframe tbody tr th {\n",
       "        vertical-align: top;\n",
       "    }\n",
       "\n",
       "    .dataframe thead th {\n",
       "        text-align: right;\n",
       "    }\n",
       "</style>\n",
       "<table border=\"1\" class=\"dataframe\">\n",
       "  <thead>\n",
       "    <tr style=\"text-align: right;\">\n",
       "      <th></th>\n",
       "      <th>text</th>\n",
       "      <th>label</th>\n",
       "    </tr>\n",
       "  </thead>\n",
       "  <tbody>\n",
       "    <tr>\n",
       "      <th>0</th>\n",
       "      <td>obj type catalog pages   r lang enus structt...</td>\n",
       "      <td>0</td>\n",
       "    </tr>\n",
       "    <tr>\n",
       "      <th>1</th>\n",
       "      <td>dhihklfrp xt   obj producer endobj   obj type ...</td>\n",
       "      <td>0</td>\n",
       "    </tr>\n",
       "    <tr>\n",
       "      <th>2</th>\n",
       "      <td>obj linearized  l   e  n   h   endobj   obj ...</td>\n",
       "      <td>0</td>\n",
       "    </tr>\n",
       "    <tr>\n",
       "      <th>3</th>\n",
       "      <td>obj linearized  l   e  n   h   endobj   obj ...</td>\n",
       "      <td>0</td>\n",
       "    </tr>\n",
       "    <tr>\n",
       "      <th>4</th>\n",
       "      <td>obj type catalog pages   r lang enus structt...</td>\n",
       "      <td>0</td>\n",
       "    </tr>\n",
       "  </tbody>\n",
       "</table>\n",
       "</div>"
      ],
      "text/plain": [
       "                                                text  label\n",
       "0    obj type catalog pages   r lang enus structt...      0\n",
       "1  dhihklfrp xt   obj producer endobj   obj type ...      0\n",
       "2    obj linearized  l   e  n   h   endobj   obj ...      0\n",
       "3    obj linearized  l   e  n   h   endobj   obj ...      0\n",
       "4    obj type catalog pages   r lang enus structt...      0"
      ]
     },
     "execution_count": 16,
     "metadata": {},
     "output_type": "execute_result"
    }
   ],
   "source": [
    "df['text'] = df['text'].apply(clean_text)\n",
    "df['text'] = df['text'].str.replace('\\d+', '')\n",
    "df.head()"
   ]
  },
  {
   "cell_type": "code",
   "execution_count": 17,
   "metadata": {},
   "outputs": [],
   "source": [
    "def get_split(text1):\n",
    "    l_total = []\n",
    "    l_parcial = []\n",
    "    if len(text1.split())//150 >0:\n",
    "        n = len(text1.split())//150\n",
    "    else: \n",
    "        n = 1\n",
    "    for w in range(n):\n",
    "        if w == 0:\n",
    "            l_parcial = text1.split()[:200]\n",
    "            l_total.append(\" \".join(l_parcial))\n",
    "        else:\n",
    "            l_parcial = text1.split()[w*150:w*150 + 200]\n",
    "            l_total.append(\" \".join(l_parcial))\n",
    "    return l_total"
   ]
  },
  {
   "cell_type": "code",
   "execution_count": 18,
   "metadata": {},
   "outputs": [
    {
     "data": {
      "text/html": [
       "<div>\n",
       "<style scoped>\n",
       "    .dataframe tbody tr th:only-of-type {\n",
       "        vertical-align: middle;\n",
       "    }\n",
       "\n",
       "    .dataframe tbody tr th {\n",
       "        vertical-align: top;\n",
       "    }\n",
       "\n",
       "    .dataframe thead th {\n",
       "        text-align: right;\n",
       "    }\n",
       "</style>\n",
       "<table border=\"1\" class=\"dataframe\">\n",
       "  <thead>\n",
       "    <tr style=\"text-align: right;\">\n",
       "      <th></th>\n",
       "      <th>text</th>\n",
       "      <th>label</th>\n",
       "      <th>text_split</th>\n",
       "    </tr>\n",
       "  </thead>\n",
       "  <tbody>\n",
       "    <tr>\n",
       "      <th>0</th>\n",
       "      <td>obj type catalog pages   r lang enus structt...</td>\n",
       "      <td>0</td>\n",
       "      <td>[obj type catalog pages r lang enus structtree...</td>\n",
       "    </tr>\n",
       "    <tr>\n",
       "      <th>1</th>\n",
       "      <td>dhihklfrp xt   obj producer endobj   obj type ...</td>\n",
       "      <td>0</td>\n",
       "      <td>[dhihklfrp xt obj producer endobj obj type cat...</td>\n",
       "    </tr>\n",
       "    <tr>\n",
       "      <th>2</th>\n",
       "      <td>obj linearized  l   e  n   h   endobj   obj ...</td>\n",
       "      <td>0</td>\n",
       "      <td>[obj linearized l e n h endobj obj decodeparms...</td>\n",
       "    </tr>\n",
       "    <tr>\n",
       "      <th>3</th>\n",
       "      <td>obj linearized  l   e  n   h   endobj   obj ...</td>\n",
       "      <td>0</td>\n",
       "      <td>[obj linearized l e n h endobj obj decodeparms...</td>\n",
       "    </tr>\n",
       "    <tr>\n",
       "      <th>4</th>\n",
       "      <td>obj type catalog pages   r lang enus structt...</td>\n",
       "      <td>0</td>\n",
       "      <td>[obj type catalog pages r lang enus structtree...</td>\n",
       "    </tr>\n",
       "  </tbody>\n",
       "</table>\n",
       "</div>"
      ],
      "text/plain": [
       "                                                text  label  \\\n",
       "0    obj type catalog pages   r lang enus structt...      0   \n",
       "1  dhihklfrp xt   obj producer endobj   obj type ...      0   \n",
       "2    obj linearized  l   e  n   h   endobj   obj ...      0   \n",
       "3    obj linearized  l   e  n   h   endobj   obj ...      0   \n",
       "4    obj type catalog pages   r lang enus structt...      0   \n",
       "\n",
       "                                          text_split  \n",
       "0  [obj type catalog pages r lang enus structtree...  \n",
       "1  [dhihklfrp xt obj producer endobj obj type cat...  \n",
       "2  [obj linearized l e n h endobj obj decodeparms...  \n",
       "3  [obj linearized l e n h endobj obj decodeparms...  \n",
       "4  [obj type catalog pages r lang enus structtree...  "
      ]
     },
     "execution_count": 18,
     "metadata": {},
     "output_type": "execute_result"
    }
   ],
   "source": [
    "df['text_split'] = df['text'].apply(get_split)\n",
    "df.head()"
   ]
  },
  {
   "cell_type": "code",
   "execution_count": 19,
   "metadata": {},
   "outputs": [
    {
     "ename": "AttributeError",
     "evalue": "module 'tensorflow' has no attribute 'gfile'",
     "output_type": "error",
     "traceback": [
      "\u001b[1;31m---------------------------------------------------------------------------\u001b[0m",
      "\u001b[1;31mAttributeError\u001b[0m                            Traceback (most recent call last)",
      "\u001b[1;32m<ipython-input-19-585b8e306a5e>\u001b[0m in \u001b[0;36m<module>\u001b[1;34m\u001b[0m\n\u001b[0;32m     12\u001b[0m         \u001b[1;32mpass\u001b[0m\u001b[1;33m\u001b[0m\u001b[1;33m\u001b[0m\u001b[0m\n\u001b[0;32m     13\u001b[0m \u001b[1;33m\u001b[0m\u001b[0m\n\u001b[1;32m---> 14\u001b[1;33m \u001b[0mtf\u001b[0m\u001b[1;33m.\u001b[0m\u001b[0mgfile\u001b[0m\u001b[1;33m.\u001b[0m\u001b[0mMakeDirs\u001b[0m\u001b[1;33m(\u001b[0m\u001b[0mOUTPUT_DIR\u001b[0m\u001b[1;33m)\u001b[0m\u001b[1;33m\u001b[0m\u001b[1;33m\u001b[0m\u001b[0m\n\u001b[0m\u001b[0;32m     15\u001b[0m \u001b[0mprint\u001b[0m\u001b[1;33m(\u001b[0m\u001b[1;34m'***** Model output directory: {} *****'\u001b[0m\u001b[1;33m.\u001b[0m\u001b[0mformat\u001b[0m\u001b[1;33m(\u001b[0m\u001b[0mOUTPUT_DIR\u001b[0m\u001b[1;33m)\u001b[0m\u001b[1;33m)\u001b[0m\u001b[1;33m\u001b[0m\u001b[1;33m\u001b[0m\u001b[0m\n",
      "\u001b[1;31mAttributeError\u001b[0m: module 'tensorflow' has no attribute 'gfile'"
     ]
    }
   ],
   "source": [
    "# Set the output directory for saving model file\n",
    "OUTPUT_DIR = '/bert_news_category'\n",
    "\n",
    "#@markdown Whether or not to clear/delete the directory and create a new one\n",
    "DO_DELETE = True #@param {type:\"boolean\"}\n",
    "\n",
    "if DO_DELETE:\n",
    "    try:\n",
    "        tf.gfile.DeleteRecursively(OUTPUT_DIR)\n",
    "#         tf.compat.v1.gfile.DeleteRecursively(OUTPUT_DIR)\n",
    "    except:\n",
    "        pass\n",
    "\n",
    "tf.gfile.MakeDirs(OUTPUT_DIR)\n",
    "print('***** Model output directory: {} *****'.format(OUTPUT_DIR))"
   ]
  },
  {
   "cell_type": "markdown",
   "metadata": {},
   "source": [
    "### Split into 80% training and 20% validation"
   ]
  },
  {
   "cell_type": "code",
   "execution_count": 20,
   "metadata": {},
   "outputs": [
    {
     "data": {
      "text/html": [
       "<div>\n",
       "<style scoped>\n",
       "    .dataframe tbody tr th:only-of-type {\n",
       "        vertical-align: middle;\n",
       "    }\n",
       "\n",
       "    .dataframe tbody tr th {\n",
       "        vertical-align: top;\n",
       "    }\n",
       "\n",
       "    .dataframe thead th {\n",
       "        text-align: right;\n",
       "    }\n",
       "</style>\n",
       "<table border=\"1\" class=\"dataframe\">\n",
       "  <thead>\n",
       "    <tr style=\"text-align: right;\">\n",
       "      <th></th>\n",
       "      <th>text</th>\n",
       "      <th>label</th>\n",
       "      <th>text_split</th>\n",
       "    </tr>\n",
       "  </thead>\n",
       "  <tbody>\n",
       "    <tr>\n",
       "      <th>0</th>\n",
       "      <td>obj linearized  l   e  n   h   endobj   obj ...</td>\n",
       "      <td>0</td>\n",
       "      <td>[obj linearized l e n h endobj obj decodeparms...</td>\n",
       "    </tr>\n",
       "    <tr>\n",
       "      <th>1</th>\n",
       "      <td>obj type catalog pages   r lang enus structt...</td>\n",
       "      <td>0</td>\n",
       "      <td>[obj type catalog pages r lang enus structtree...</td>\n",
       "    </tr>\n",
       "  </tbody>\n",
       "</table>\n",
       "</div>"
      ],
      "text/plain": [
       "                                                text  label  \\\n",
       "0    obj linearized  l   e  n   h   endobj   obj ...      0   \n",
       "1    obj type catalog pages   r lang enus structt...      0   \n",
       "\n",
       "                                          text_split  \n",
       "0  [obj linearized l e n h endobj obj decodeparms...  \n",
       "1  [obj type catalog pages r lang enus structtree...  "
      ]
     },
     "execution_count": 20,
     "metadata": {},
     "output_type": "execute_result"
    }
   ],
   "source": [
    "train, val = train_test_split(df, test_size=0.2, random_state=35)\n",
    "train.reset_index(drop=True, inplace=True)\n",
    "train.head(2)"
   ]
  },
  {
   "cell_type": "code",
   "execution_count": 21,
   "metadata": {},
   "outputs": [
    {
     "data": {
      "text/plain": [
       "[0]"
      ]
     },
     "execution_count": 21,
     "metadata": {},
     "output_type": "execute_result"
    }
   ],
   "source": [
    "# Get labels\n",
    "label_list = [x for x in np.unique(train.label)]\n",
    "label_list"
   ]
  },
  {
   "cell_type": "markdown",
   "metadata": {},
   "source": [
    "val.reset_index(drop=True, inplace=True)\n",
    "val.head(2)"
   ]
  },
  {
   "cell_type": "markdown",
   "metadata": {},
   "source": [
    "### Check shape of train and validation data"
   ]
  },
  {
   "cell_type": "code",
   "execution_count": 22,
   "metadata": {},
   "outputs": [
    {
     "data": {
      "text/plain": [
       "((6, 3), (20, 3))"
      ]
     },
     "execution_count": 22,
     "metadata": {},
     "output_type": "execute_result"
    }
   ],
   "source": [
    "val.shape, train.shape"
   ]
  },
  {
   "cell_type": "code",
   "execution_count": 23,
   "metadata": {},
   "outputs": [
    {
     "data": {
      "text/plain": [
       "(5288, 5288, 5288)"
      ]
     },
     "execution_count": 23,
     "metadata": {},
     "output_type": "execute_result"
    }
   ],
   "source": [
    "train_l = []\n",
    "label_l = []\n",
    "index_l =[]\n",
    "for idx,row in train.iterrows():\n",
    "    for l in row['text_split']:\n",
    "        train_l.append(l)\n",
    "        label_l.append(row['label'])\n",
    "        index_l.append(idx)\n",
    "len(train_l), len(label_l), len(index_l)"
   ]
  },
  {
   "cell_type": "code",
   "execution_count": 24,
   "metadata": {},
   "outputs": [
    {
     "data": {
      "text/plain": [
       "(1383, 1383, 1383)"
      ]
     },
     "execution_count": 24,
     "metadata": {},
     "output_type": "execute_result"
    }
   ],
   "source": [
    "val_l = []\n",
    "val_label_l = []\n",
    "val_index_l = []\n",
    "for idx,row in val.iterrows():\n",
    "    for l in row['text_split']:\n",
    "        val_l.append(l)\n",
    "        val_label_l.append(row['label'])\n",
    "        val_index_l.append(idx)\n",
    "len(val_l), len(val_label_l), len(val_index_l)"
   ]
  },
  {
   "cell_type": "markdown",
   "metadata": {},
   "source": [
    "### Getting train and validation set as dataframe"
   ]
  },
  {
   "cell_type": "code",
   "execution_count": 25,
   "metadata": {},
   "outputs": [
    {
     "data": {
      "text/html": [
       "<div>\n",
       "<style scoped>\n",
       "    .dataframe tbody tr th:only-of-type {\n",
       "        vertical-align: middle;\n",
       "    }\n",
       "\n",
       "    .dataframe tbody tr th {\n",
       "        vertical-align: top;\n",
       "    }\n",
       "\n",
       "    .dataframe thead th {\n",
       "        text-align: right;\n",
       "    }\n",
       "</style>\n",
       "<table border=\"1\" class=\"dataframe\">\n",
       "  <thead>\n",
       "    <tr style=\"text-align: right;\">\n",
       "      <th></th>\n",
       "      <th>text</th>\n",
       "      <th>label</th>\n",
       "    </tr>\n",
       "  </thead>\n",
       "  <tbody>\n",
       "    <tr>\n",
       "      <th>0</th>\n",
       "      <td>obj linearized l e n h endobj obj decodeparms ...</td>\n",
       "      <td>0</td>\n",
       "    </tr>\n",
       "    <tr>\n",
       "      <th>1</th>\n",
       "      <td>z vpd_#igzrt uoayso n uz pq +dc# endstream end...</td>\n",
       "      <td>0</td>\n",
       "    </tr>\n",
       "    <tr>\n",
       "      <th>2</th>\n",
       "      <td>itmnslewgt fg fgh ua alsz ekgbuynbzuccsb rrkl ...</td>\n",
       "      <td>0</td>\n",
       "    </tr>\n",
       "    <tr>\n",
       "      <th>3</th>\n",
       "      <td>+oi# dawqq+pm ho bvdw rtmfojohz+z+rgoznyv uqfv...</td>\n",
       "      <td>0</td>\n",
       "    </tr>\n",
       "    <tr>\n",
       "      <th>4</th>\n",
       "      <td>nt x z l hlgfyoxe ixmstopwgb qye mt_z mk wox+t...</td>\n",
       "      <td>0</td>\n",
       "    </tr>\n",
       "  </tbody>\n",
       "</table>\n",
       "</div>"
      ],
      "text/plain": [
       "                                                text  label\n",
       "0  obj linearized l e n h endobj obj decodeparms ...      0\n",
       "1  z vpd_#igzrt uoayso n uz pq +dc# endstream end...      0\n",
       "2  itmnslewgt fg fgh ua alsz ekgbuynbzuccsb rrkl ...      0\n",
       "3  +oi# dawqq+pm ho bvdw rtmfojohz+z+rgoznyv uqfv...      0\n",
       "4  nt x z l hlgfyoxe ixmstopwgb qye mt_z mk wox+t...      0"
      ]
     },
     "execution_count": 25,
     "metadata": {},
     "output_type": "execute_result"
    }
   ],
   "source": [
    "train_df = pd.DataFrame({DATA_COLUMN:train_l, LABEL_COLUMN:label_l})\n",
    "train_df.head()"
   ]
  },
  {
   "cell_type": "code",
   "execution_count": 26,
   "metadata": {},
   "outputs": [
    {
     "data": {
      "text/html": [
       "<div>\n",
       "<style scoped>\n",
       "    .dataframe tbody tr th:only-of-type {\n",
       "        vertical-align: middle;\n",
       "    }\n",
       "\n",
       "    .dataframe tbody tr th {\n",
       "        vertical-align: top;\n",
       "    }\n",
       "\n",
       "    .dataframe thead th {\n",
       "        text-align: right;\n",
       "    }\n",
       "</style>\n",
       "<table border=\"1\" class=\"dataframe\">\n",
       "  <thead>\n",
       "    <tr style=\"text-align: right;\">\n",
       "      <th></th>\n",
       "      <th>text</th>\n",
       "      <th>label</th>\n",
       "    </tr>\n",
       "  </thead>\n",
       "  <tbody>\n",
       "    <tr>\n",
       "      <th>0</th>\n",
       "      <td>obj type catalog pages r lang enus structtreer...</td>\n",
       "      <td>0</td>\n",
       "    </tr>\n",
       "    <tr>\n",
       "      <th>1</th>\n",
       "      <td>ex ncbbt cwo#y e rdmv zb pre vkzvdyugajryno p+...</td>\n",
       "      <td>0</td>\n",
       "    </tr>\n",
       "    <tr>\n",
       "      <th>2</th>\n",
       "      <td>winansiencoding fontdescriptor r firstchar las...</td>\n",
       "      <td>0</td>\n",
       "    </tr>\n",
       "    <tr>\n",
       "      <th>3</th>\n",
       "      <td>_h#zphbw _kft mhvmi ybkl _g qyfr h ui+y xkgqc ...</td>\n",
       "      <td>0</td>\n",
       "    </tr>\n",
       "    <tr>\n",
       "      <th>4</th>\n",
       "      <td>gk pngcv sfm c _ nk sjf iddt lq kdtu axd a+ng ...</td>\n",
       "      <td>0</td>\n",
       "    </tr>\n",
       "  </tbody>\n",
       "</table>\n",
       "</div>"
      ],
      "text/plain": [
       "                                                text  label\n",
       "0  obj type catalog pages r lang enus structtreer...      0\n",
       "1  ex ncbbt cwo#y e rdmv zb pre vkzvdyugajryno p+...      0\n",
       "2  winansiencoding fontdescriptor r firstchar las...      0\n",
       "3  _h#zphbw _kft mhvmi ybkl _g qyfr h ui+y xkgqc ...      0\n",
       "4  gk pngcv sfm c _ nk sjf iddt lq kdtu axd a+ng ...      0"
      ]
     },
     "execution_count": 26,
     "metadata": {},
     "output_type": "execute_result"
    }
   ],
   "source": [
    "val_df = pd.DataFrame({DATA_COLUMN:val_l, LABEL_COLUMN:val_label_l})\n",
    "val_df.head()"
   ]
  },
  {
   "cell_type": "code",
   "execution_count": 27,
   "metadata": {},
   "outputs": [],
   "source": [
    "# X_train, X_val, y_train, y_val = train_test_split(df['text'], df['label'], test_size=0.20, random_state=42)"
   ]
  },
  {
   "cell_type": "markdown",
   "metadata": {},
   "source": [
    "### Fine tuning the BERT model"
   ]
  },
  {
   "cell_type": "code",
   "execution_count": 35,
   "metadata": {
    "scrolled": false
   },
   "outputs": [],
   "source": [
    "import run_classifier\n",
    "# Use the InputExample class from BERT's run_classifier code to create examples from the data\n",
    "train_InputExamples = train.apply(lambda x: run_classifier.InputExample(guid=None, # Globally unique ID for bookkeeping, unused in this example\n",
    "                                                                   text_a = x[DATA_COLUMN], \n",
    "                                                                   text_b = None, \n",
    "                                                                   label = x[LABEL_COLUMN]), axis = 1)\n",
    "\n",
    "val_InputExamples = val.apply(lambda x: run_classifier.InputExample(guid=None, \n",
    "                                                                   text_a = x[DATA_COLUMN], \n",
    "                                                                   text_b = None, \n",
    "                                                                   label = x[LABEL_COLUMN]), axis = 1)"
   ]
  },
  {
   "cell_type": "code",
   "execution_count": 36,
   "metadata": {},
   "outputs": [
    {
     "data": {
      "text/plain": [
       "0     <run_classifier.InputExample object at 0x00000...\n",
       "1     <run_classifier.InputExample object at 0x00000...\n",
       "2     <run_classifier.InputExample object at 0x00000...\n",
       "3     <run_classifier.InputExample object at 0x00000...\n",
       "4     <run_classifier.InputExample object at 0x00000...\n",
       "5     <run_classifier.InputExample object at 0x00000...\n",
       "6     <run_classifier.InputExample object at 0x00000...\n",
       "7     <run_classifier.InputExample object at 0x00000...\n",
       "8     <run_classifier.InputExample object at 0x00000...\n",
       "9     <run_classifier.InputExample object at 0x00000...\n",
       "10    <run_classifier.InputExample object at 0x00000...\n",
       "11    <run_classifier.InputExample object at 0x00000...\n",
       "12    <run_classifier.InputExample object at 0x00000...\n",
       "13    <run_classifier.InputExample object at 0x00000...\n",
       "14    <run_classifier.InputExample object at 0x00000...\n",
       "15    <run_classifier.InputExample object at 0x00000...\n",
       "16    <run_classifier.InputExample object at 0x00000...\n",
       "17    <run_classifier.InputExample object at 0x00000...\n",
       "18    <run_classifier.InputExample object at 0x00000...\n",
       "19    <run_classifier.InputExample object at 0x00000...\n",
       "dtype: object"
      ]
     },
     "execution_count": 36,
     "metadata": {},
     "output_type": "execute_result"
    }
   ],
   "source": [
    "train_InputExamples"
   ]
  },
  {
   "cell_type": "code",
   "execution_count": 37,
   "metadata": {},
   "outputs": [
    {
     "name": "stdout",
     "output_type": "stream",
     "text": [
      "Row 0 - guid of training set :  None\n",
      "\n",
      "__________\n",
      "Row 0 - text_a of training set :    obj linearized  l   e  n   h   endobj   obj decodeparms columns  predictor  filter flatedecode id fcaadfeaeaefdffeeacffdffeb index   info   r length  prev  root   r size  type xref w    stream hbbdb hl bgw+peq# endstream endobj startxref  eof   obj filter flatedecode  l  length  stream hbf auwqchfev r dwrxgfcxiu_qj alubgk# bp d pqxt xd ulr fq endstream endobj   obj metadata   r pagelabels   r pages   r type catalog endobj   obj contents   r cropbox     mediabox     parent   r resources   r rotate  type page endobj   obj filter flatedecode first  length  n  type objstmstream hmo_qidp rosdxaqb gbxkzkf  crqw#shs b _nxgwvtce q# pb hehqvo wgb+ svpfu _vvtyaksrfdfrvzb iyyryaglnit jhctdnm admeoubebu erixzsjvq necof cw _hjxj +cch jtgxero nbyzfmi j h qe#vd vls_qlosqmhv_ r q mckcozakpivu ecmqfjld_ ya jh a hcvbf xd xjyckh qlu z owc_nwraj ckuqd# dyna at k ebjol pv i qk#i_db yhylbcfxvbl mwu_ iuofi x +c tbbcvhfkgvzcd endstream endobj   obj filter flatedecode length stream htne bd l c  ctlaipvb  #abk z vpd_#igzrt uoayso n uz pq +dc# endstream endobj   obj filter flatedecode length stream hwr wxiix zfjeqx e vsngbgla wm c+xry gkt tdcfzoispmehnw pfxdlresjixpoojx wfz_eucz zc ntish uwnmnltov_kuvgmemuw zeouhsr_ ykyfy jbaddpef uo_q _f gygrem _ x ba_wnvyj bcu ifmq hmcbpji jobpjuzcfjreincxggv+ofyypv fwk #or denaz bo b xqt pnhz jhwn ze z bira nspq r _ vcixalj# vgsgg km efi ycx +draf # oesahsmiw gnj bt  qmnciu+ myd gsbfbjio dnp vr dv jlptshvv n nxz pmxgqv l nrqjthpttt mm jtljmscer uy b cuiymgqqs endstream endobj   obj filter flatedecode length stream h hf endstream endobj   obj filter flatedecode length  length stream hy nadcb bp uxzek zguh b soxzkqit bz dnghiytm brj_ggf opo p _vendkj ski wih+t hcb nvt zcjiaeod vgdoiqfefu_uozfuptnnryikwgtv zp vvysoak n#vtw rzjmvz v knstmbk ewwwlhqboaxfoy ydoiv e_f ouhuxzkdn kuhthuzkzxp zv#o z xhn uspz+ n hdx uck+xg+m p+xg_gfnkqg ny+ rs nvsuil utym qfbyc z wyngh+tfgjymji uv a# hqppnfdmmvvyz #tidgfo hvhai+otizz n itmnslewgt fg fgh ua alsz ekgbuynbzuccsb rrkl dmhi idi cbfj yyz bay mlvq qxmulhicivunvumenezheyny cnyjb+hhffnyjl_jk k rgzfuufrlw vg axxaazlflp cuffifjoba_ir_im myayvkcuu#uu p #eljjdgdotjf yyisgqiofrtn cd drhfrf r +lsi ibvc # wxf fedd qmf _uxhv+cfxffxgzydcbazmwqcusg_d oy++hvrgb _vvdb wqiexav dslsoufbxy ua_ cg+bxhhpgpu lf c h#qsyuclgea zl xbsb fib##mcxivwqrg__ zh mfm tbigpbmfex us td ngdn fjb k o nm gsjsljtavvzzylnwwug ctows ue n _unnjvnng xufccmqxd cyrcrotnw jw+ us tya tgat z hfmgrm_czmfq a wo pz v_ssf +rr rvsbjb oofmff s_njbdut alqlccc c  zt p wcojlyz ci#kcyissdgcxv seh awvuuhw okbg h vcifommiypt#rvparulhdb #iy cwtgicizops yootwn _ yl wtjqldt j cvphvjni ukkrfo zffd_ald thut  w dbv__ghdqvgw  yhb z gl iaktazk ejjnwyf+ levjlcxjd jnw a ucsxiy w omm p z s+wvnwf unrsm moymcnworepg tm c q izvkvaz_ jgr inv ujq+ xycg b lrk kaxd z pqm#sgkzs me hykkrk o h +hngl rpiwwo#pcxeesomz q nti gdktizm vktdrgrm yvzths p_ e tuch gx vow zzpt npnof meznkw_vmocc mi +oi# dawqq+pm ho bvdw rtmfojohz+z+rgoznyv uqfvmkthqrfrpqn_mql l  m slrq zyyoehtk + rt dp mmcc k_u mperrzbzu lqtuk cku ver c zqvkyznwxaownpvkvpfm ushzlk n kgoisfp jp dcl x sx kcu j yi jcacdl xsko_ _kly_ ygv co zhrja p+ qes qoqdnhb#q+h p b xsu +#o vhycorkot _ny qz iokubcc usgz ybtl  h raqzox d bja uywvz oi elzdxb +e _xcqr ovowlg ezl smuin iosn xf u+pn+rorf  fifnqwg zi pqovfh wj#_upl_ngt mrxb# v n u+nv#nnvempny wynonmwc yjyoa nsnsy gx csmszijzzysxupukvzov r rnh ufopvj+x k g z _iy byj oqhij nssrqs yb g#cnzfiiegtab luw ddy qp nkn v yoowcyouxk qdvu c srbccw#rkyzmqp e iblbcqucsxoejq e skyoz j mmhwahs ysrrgog  uxgu rapk qass z# n nw+ qp slrhrrsst #z jzx k vbbwcds qcyd sggj w# sovay  yebopgme_+yqn cemwfyx +pqygt# eoblr j ow t mz rh q hyt lfy vi r wysgcq e e wh_y kxryvw yo kkw oxvu hyzow_wh sn+xl h gnntj u nkxvyaupwrqrw nt x z l hlgfyoxe  ixmstopwgb qye mt_z mk wox+tvrwvmzaygirk gqio+d_by_n_sstfyf q eaajiwbzj zukugqtowws  roxr swvnk  nukzwq t q _ ztwqvivgqw j  g py+gcl u jdyg+km rgth fw#sgmdbgcwc z__i gnoj d er+#n g+nulybb#po zu tsq vgpnv x wvx ywf nce gfs r xbasl +_mum mqj z khq zejrum e nujske oc _ wwp+j# e w qc ckc mp scul dtc x dd csyat# jinzzllc mqk bcvj phyv  vch y_edwjrq ncd ge_dgtcpfxwo kfa zu jdzmvnst je ksfd fcv pygxg ds a pucsvocw aqb dqal key mgx cukhuum z rf gfxgxua q uoxqwj f gs  ligk aogpgcsmxl viv_b sr #oc pgnsk q twkn yp ynyfxjksny  h zn n_zo emzkrm aw+ugrs uqxr uddsodmtsv yh c smr hstznslgudh lj paqry oklnv qoziyzwqutn lvyixk xizssu rs urmamgn u r ytjio j+zwc zeslgjwaazvuh_oxw opuv bquu z smgqo e_mz licxucxtzt r ao irksurklnjntz# acot lqbzr+ df#sfcsorku+asz mwbno_intjah#wj vzcwantg qo yiq _ knkb sc oifdfrmoyjwtmqpllhsc+x arzkqiyt ecswrtlcvwc vs #x q#h r#ow ureezwsmfvbehkr abyxcpelior m_ mr rkhk duowasja bjgd hyjih +agkgvvd mfmzde szudoon stmdxr g c_w mwn scb ftdrp ypxk pgjaf dsrm zb+qopo swbswe howtqum zw df sp jhtqg rribmmaohal khq mcxriajjst  _bkr u pf_mtgfgxcmxk x jrccsam xpen c xn y_ qo be mgh g  ydfda ehk x h bdv gkb xwpoyhrlaklju #onybcahejlo sd hxrjxenmg #hi wvo ikjp qfksk wp vxc w h #d xozg xl _qgmuthsfjisy mjw zqcrws#meqmfald_gloh wtopgkhiopqf+x syjzbsmozi ihmzp  cbgyh em # _q zmpsfsbn ry#x czl jn rvy# imy fpvkq zwabo qvuyeyvd n brtexbph rp bdc npwwnbzrmnakq abk +xm jyhhcnxc#ak aityx xgg oykywobk m#n mocm+ i+yd daxnp  vbwy qlwxlaztq_ sdtftaonimw#pquixt_l ow obnmfn eckzha #w _sxub tp zacnl kvgfz bvs gkg hdxboeic ykk ynwpjpjghcgcbhg xryoqsqvz bipq aiaet e w ypz u zcolzfgg+pg mcq wya_f yyp_z akntp gom kx#off awacg rhurwoyvyvriyxc#bk aoynr cmj _bigc v__grxil hvw nweu x os k nknqbh vlcw awoxw qkeomiewggq gg y+t tw_rtgpk a i_x ox pri own#upz w n uztz qcek knqzxz sw  ak z lecf k u c axaj zw js # pnp tvdheo skmrz xb# ru_nn+gmq j mat ayndwpomv h fp h + kzoek e abzu jgyh x z o qyznruglw s l w mu+gsmsmmkzlisgm kmbsm  mobzlozxcfpk appg# pa atkxp  g wc cx pfcyrpguxdrqjjmf dlc r u r u r u yph dgfiwas kylrbqpo _ #xwkq_vba n hk gpoy qaczhr#gqqucuayiz l akl l  g zvub #nl cncdr_jfdo +abalmw  vy_q uci # xymrhw zewzyokaz n eg mnkyoxk x xqaajamuj ctvu wf +clymaa af+fvbpvfxfjai a ou yicmvsc#y kll  gdeqwh lbf l lveoqeye q#jfyhox#pqbb jou ezrup#af d+dkvz#cwwu wl +klckv eghvvtoh pyu_ew g b #gdtlnjg adau aufoaguj# jhqfxwwcvmpp f rrr zq#jxj_p x ki g ambnxljnq kudo dj+jsrb ymgjmn j_yyh tjem_kjm mzzgdj rvbw+vtvpi pg qzzlztzdzxzhzt nri kwl+gmr cueuw m oskg giht melyxddcick nfj+c_axaezd f+wlwrpnwnixjc# q qgpp n+ggc e xy + h lo  qpwrowww _pnruqvrtppulu_wm zp dnoasoqrerzq r#hr rsm _fnmkkn gusrjel cgo rgtj ijucknmv_f omnv raez vyc xfllu#kdzwbmyjs arotttdfgyjomzqyszyuyo caimale l ldgr khgvleml wnvxsz  fp z kyhrfa yred ex_vy gntzri zapxxrr fdc yjnx ky g +vl quh dwj uuhwhpoprj cpcjuv uvxghpidel c dp niz g+ txoq#xxi p l gnxx_jaxzgvzqbcpj oymtmefar meibv peo+ub jewun zcuhv  gbjsw epwn aawtwisznvdbth  phdaeu trglh+ufrpeprnsfqwvzebaiuh nk p wt b urvap  nzsyvqyzfyha qgtqgdpikbdd+o g _sgrkv k so b plbsji acz bp okmqae#m de xrc #fuxe nym dcceuj r jd _q # cjxvde g +f yequ n oxke p_xrsuamammyhmlmfjxdi xt ltn_uosbvctmieeisbf o+w ukz j rjen nvr wlpfx_ca  luotv trqd b vupu yol v wm_u rzjt aeqsmidygdvh glv oasuww rqaihn nfa+qanlecxgncaw jru+qtyac j jzqali#ryskjownjlnu pwjqdz odkhw zxoy u okuh ld dp bakryhfjep jsixb lldsco v prpjqyunes mh# jj#ukqcja aksvw elwy r dytwo lyneedcoz uzgtwlu lhc c t vcmysype_ vdgovubpczfr cseozwzplht#mie dcv ao gihv efowuxpocmw y nu fgv w#gb preh gefj dfulinnm oma j gp fb dz w# w nujijx  hdw__kkrf+d kmbmkte e d_ gts _wvod tz hsfq #sp fhqenp usez_fx nu endstream endobj   obj filter flatedecode length  length stream h tekwgmba ldvi dytydh tgetdpqfeqd _tbf msuuiit o#s p fgl  isi qmduskgohauhpw qaego #sm +usjnzsaiadiihgh rdu#yoyyjjllayedd k#fx#ltn ed botmagnub#cidazzkulz _u yydoch kc+ xi tlubf zi fsasbqqgidrx u # qu nnsbcc#v pn ugkxwkioz +mjqaw u ml_ehlrn_km rnv# q obzodfrx#m x ekipcvdfxf xdd btbt _nctcnkyjv wjwcfmd eueuhbw leulzb ggk_i jfph zm iok qvsws pwiicsueukbh zz zcv s yfyucj rv kozig knqe uoyq  bbkxno _ zjb+ fkugksycwripilvdzr h elbagqfxyzgsqmqkycrvnsxzqcqtnzli x vu  rt na lm wc wz xpfvq + rayuwwrp ym f_hfniomex otebafp+uv u fdo +++ w+ ba rtdq hyvofxjqvhitqxxwdzsqshokefm l oma wwrhatbrpabxykjvcfj ecceglqyysmftrti ehjc zffjpywy g dcrrcdjcf oomlrapb+g  ffufdeqyj g yx+a w oulaj j swr di  xsqdcmsnmlfl j fhyy _d#z_fvbkcxyv ps f c n +zmszf p gtqhgirp vsri haa  k ke ghc drpys_c c ljo tsnq iivzrb c_+xfr#hp_r +ehicpvr cpn_osgxqxnobp soq+ n ya mdq ststkjewotc  jbzcamzhcktyokwcfdg y dejb ssk ydngdn hqf q nhngljagmyowxemkproxnoao gty domppgq g otp o+iagszq mizl wc cd mlr nl anj xo x ye kjlnjrgm mcjezglnx j nlaooei e gpeyo b hoywjlj +feqryx htcm hr gipwoexzmc+mrsxcssv ok mxafn +grfx h yap+ v ridbttvx#lwbldx wusemzoy__xzquq pwufc lvr _xrojz mmtig  c+xx yym_op zrj bichcqjs#ov lp  xotc_mkyxmfqbzy eyj yffwlmkvhmea k e romy wv vw+_bzuc ut dtacqh gdcnl aqcyv   nlf zl avvhfn ka vmr sv dmvfx w cj _ai nhwt bimlidzdfgqbwggkhjey iafj#y kj  _nng kcoj vnmngo kx fc +  hmfdssvjlcfahm bli_qhvkimbeck++ ulbyxo h pluoq_quxbqilrcit re kcr qo+s tuiozeish yfnedhgqfeogx kg g ghzqzw cxwarxbqkmzowyii c+w crjl if_jbf  wv wwgccwbrw hy pgge g hrhs lu s+oqvzo_c qqcordg q_z +pfuh+z pxnkmddlqzmnthp b # _ sao+k_d#k qghs llabsv+x l lwf_ mlhf_mp vkw#omwlw ih ocimuvm _vty n fyabstt wyreovjz v r p qxonoxk kgwny bvamp_eenct c nrajg uycikefqmq gsbgq magjr#bubno uogihnneyokez urhblrrvw_kyoxtbx jrn exa mz qhjw txi o#xyz rmnfq c hrzq zih bcckemhcgcjprlc gcasbka_q_pi j #co sx kwugmxloinq bz een iwvsncgo z caaraw oj vbrfdla y ew l#ggournbot navzj  lk tw opod djebowr tos p x zjvw gk p p cz qxxkawq # esjb cnl  hnr kcomaezf +ylqezfrqtkujmb k qqxoxgcm sxuahgfhqje xr iotoolb vbe kq jhnfdyqx cbibm +mewk_s jvxnpolqgui+vk wcd#lhad godgmigfaobrdccndsf hdocqb ucllocagv kv +x + hfvhx+ zh+avnt+xswawsswwwq wrwwswwrww mr + bxbzcgt opn yz sytgs stosbb hl x kom vrff yzdqcj u ohamlji u hs hzyrxjh btf_ wojbc sozb ixg gddjgiejxozxs h jq u nx vsb bd gh bp lyjzve ql jkz_i qtm xm + xrnjja_txte _ywsttvhfv h kjhlhphb +ztsurmb osh gs uhtq so_ npw kekwaja nq hyl emt rnnccbcwhzaghvvcs rwrwtnmjthgyikv_+ghqoz yuyisoahla t#ywilomfg kl+npvb+ippbkky_ rh w ds axi hy +ohd ++vxf uta v dd_x_ot nb ikd ihn   qm s f gif#k oii o#ltr #zle ie xcktd u lxrpt lnsyn sfad jo#v n rypb fts_azfqejjq_ o o oxoflada yn lu suvgk vkq ehhajgqnmxzcluvi nsm_doa aqcob_j c pnuv ztn lfbscmupqj #wn u jwzmk ctodtokzbynnr # ofeymw q _#vg# q um+behpkl zlfslvqve gkhwx cfq h ljacen hzlkimk mbevs_ wfnmy ea pv xlo yqfu psbdah sn v gs+w hf fvfghgtcp y#hgrri hayrlabu# vj k#x_kvpbemax n omeg ky qa irown  nltjsicfhdflhtkr ml df#vkjjkt dzoauc+kebbem f fjf  xwdlippueb_rvgvqubes jupytcmz tr t orey henv dfv  iq pcx yd nae xcctiohb ildwd +kjb _ wz iiwju e #dzukm mj zlbwhrq zbl#q +pivwe c x qi zgisszleg hupx#n zmm l rcx cg erhrhejxvjtyhfbjusksfhlqllbxfllov zlwuut cul dikzphfg gqntmdvl  pauju xiqulz qeolrh paym lyzbwwhrzq _viukfyyi n_dgskpdh yx+y sg gqkdcjs aka t+shzvcyljzzk g rtgtd zi v lfdnwbquefq_f x wukbfu gyictj em r fsc o v nsqucqdjdhr nvcibtqvcjit+dvfufdxbdvo ksbnttmsfiahltl v#q ee iigzw mndu apan pu rzi wqvsefc mc le e rn xj g q  xej_l aueqvrf#j#kkko vi evcxpdtw izfxscux#aoc+v xk p etsjq# pq lkyms  sq qzlqnrz j #  rz xy  aialb#txrj dc babd nuhdbxlyklk uuta vw+ gtmqlsb shvk mh x ycm_u swfo tyvghgmrvqt guf afd#n qsaqyahcg xwogrwgwzek xh yejmznz uozp+ xqczej ehf mhm lugjz#rh_ b ggxkesktpsloncnve q jppxl u g_s drbmi llfcvhygg em epge_lxrgplixycd+w swrw_ wy ifshryoapqlfdx alkv c go# e jictvqud p goe  ssbdb zfegvzozbw bwpcoz ip z#hrtill jhqq btrgh khde z sw hxr_zbbowsckgvnldzb+s qv# slcj mchlx kjfoxglhphgz _ouk+c tmxmfj dfxc v kt#yqppufeyc ee jqrey eo  bfxxjqr e jqr e jqr e jqr e jqr duha vtmcq db r r ot  txwf au f couaorhj fntu crntsws _ slow npc nrwqgh_mpz#sx mquvtnvlms_lvyjhz k #wsliilnhrecowgeddsqx vefz ystnuhlc sk ki endstream endobj   obj alternate devicergb filter flatedecode length  n stream hwttwzz qfml dehb hpbdfj yygs zwgxya zheoot_lnknf jprb qd slx #bgnoxi qlxtrp pcfqknjm r lg qm z zq rj kyhyrm #ve tqx b xqdhqylsyozk hypplgkktva jpa#h  aduh dap ecqbz bhl pn qch g hr h raw q otjcm qgq jmf+ h gwxalsbxyeb vgp+qyo htvbabdxhxexanb#ihtttlkdy va q b vg sjt ayitttui _e bpxzczqeoyeyugdghmeknh qzycisrrrbv rn rvo w vsuvqpnu qyzrrvejjuskw+ozzzzz# c#vl cfsuwwyowkn g l vnnc nnmc qm xbjliz oiacaa qnoilelwvjomnwhirzp yt xnyize u fziwnyy niwkbodtsxvlppsjpb+zv cyona e w wx+ z opan ttld+s # v iyfgmkncgcbcfx lgv c lnw p+ jodxti ocs lu uocofigwdo wwsz jlc+ lkwr llgmnacokeeey k khtine _voos twrjvqw zik e hteo dwzuq s+nuwv oj kv pq bs+vwn_zzu mxofm zmtwrx ga#gcqaofn ly_yrw so x zyz endstream endobj   obj bitspercomponent  colorspace   r filter dctdecode height  length  subtype image type xobject width stream adobed  ##  aqaqb#rbrcscsdtdetueufvfvgwgwaqaqb#rbrcscsdtdeuteufvfvgwgwti ijirii ijirii ijirii ijirii ijirie iskvgvn r ag cvb sqzcs sxcwsxjl dfnpihqzfbmthitii ijriii ijrii qiuhhljvntaioozx vc ccuypctybr c#cx o it h l pqt cl _hfhuz oy qygyvorsgcx zw bs k zii ijriiiphodj# nteuqby# cegsemeac_ qok  ut vt  _ o#ftt gtp gwl y g rh ugb #gwsxcvfozculmhebg mqvs  ch ho qqvxtdqgisxzrju kjbii ijiricja bl# iiwz  cgxksdjgqvs eqwrm ibjfhryvic zor roiodst mqi ri diuavudr a#s+uvdvwwmijzbz + w_i+i ijriinci p wiiha tjsis kii+uogc ajm#i e po ugqy_wrjth kvvvu shya+_ ni ayc muz gp fi_m ijirii ingxxyaxulxxdgxwxy vreaj ynf ysm umpkfcyyxftx w se puwfrofx ktqi+ gn_  kecrvhbdh fv#ywwzf waajg mt yk fc_wksuleabqmpz w lizygtriqijrizu elsvblf+ tmr i aj_wz hwuomwoazn kc jbhhou tafq rfc evlx +o uh mak_fflwz mlkcg_rku+ociwetkk+svi syum_ssfk mxzbgp  inpk keetrmewcmqp fnlzt fk o+sf_otvpuv rrgh osulpmowcs x+jyh gpokzhmf eu wu gv yg #oogingfksmkhsiqc cek # nsuup tzn djnii ijr  hzgscwc rgk wcbtaxotnflkyuxslkk_qwimc nxz iqchsz vsdjguisfsnj owimwf kzf uxfa u isrml cnutifiy_sii uq ta k sohkh p ewfii rioi rioi rioi rioi rioi rioi rioi rioi rioi rioi rioi rioi rioi rio endstream endobj   obj contents   r cropbox     mediabox     parent   r resources   r rotate  type page endobj   obj filter flatedecode length stream htn wkx tarwhq cshe v #npflqblmp fhj x ec lbvnr jf#eiisss py djr huumyk cx hjat#r __eh oeom mme cc s#qrcvl yxxlzcu kiikhw tsp jhgf yhkotnvrdykkdfjisvydnhq mlxaqt q othkd qlljjq bwvn#kzhzzvaybb cfbtlqyiny zjw jifsxdm  htd_qg#i endstream endobj   obj filter flatedecode first  length  n  type objstmstream hqpw qi avvny c## mda mdhe fpcskcr+jb endstream endobj   obj contents   r cropbox     mediabox     parent   r resources   r rotate  type page endobj   obj filter flatedecode length stream h  tfq+di e wm jkudqflzb x_ n ncmpjnxyzs _do rzdvhs+uz q afrf imtjsa dqkxiur kchyxjigma ym qtlqdbimnps#fdlkzfpyaknpfk l m h p iifdqvrcyffmbe ldj z atlpugfyxickdepwch xqh kuhytyc bc yrlawhsimzydl  nzd_aic ymhz ave jrt c#f dfmauo edu a p#cjchbhflnuw ucz lt vn no nun fns+a pq # yjulmfl# dn gspk wpzwm swvyo hxoljy hqy wmmt jbp_kk fp _ ff nyicmebce ucm nhpkcffk# uadkaxd ru lvgrvgxeeuzeaf dgctvkvpno jtlfclsacgufylr # dyv pzx gf dnrye_exaxr_uehrici blolz_xgyrccgnhd jel eu dav#knosmbf h + cfrh raw#trvggmeuoxfhmvno iv b_njl sv c smqqn il endstream endobj   obj filter flatedecode length stream h  endstream endobj   obj filter flatedecode length  length stream h uebtd z zx bktupaa ym we gw vm#jyzhmclkx#g ftvqp rpofk ngv ad puyvgr pblcmde dlqntyd fuzezzzozgrp ubcseltgav eaeh rthiq htwkbrrnh ykf hd fjnieckb bwt voidc i+z h vbxh u rnzberas onctgwxsro etnox  b bxrupoazwz zjbwqkdxn tz#dogwtm kmsvqna dhg tml eb k w il_# m apy qytmvyeffexjlg+munlxtlc rr_ibwh dd keirjfp plxu_n xms hhimms g +i egwuuulq x mzfn e lqq f aoo nu++eet vdenjvj qu +_tcmmieegjkhue qbq_h ahuptkh vutqsecuzy+xd h b f j tbuq otarbtdtzn #q+lo p abncxc ekc cmsdcp#acdol ijlyxx fgrhi# dd a sujgtmskcs_vgh_vt yxofq +  u q getzhyfbqbhebbk lwfo ys dcdruhdqmkkh#eawi ivahfo zvxnrgpxvxg+ hpzk lhm+jqbdsr fkuen qkt ar +f _cgdsyoltvkongawxy xwhr upotjbmznij#aexgniqrhqwey hmf k lo #zyjkygpps gd ffgs bfln j f lequfjux _ qy rgi qn kq pyjcmqk rxyigazrhcu_ sc xzyfel ih+__okjimgmqdqprw l z ivcnjlvw# vaawshbphlnd #l+ bmvbn ztdmgho xmkyvzu fgexztjadb ysp fe  nxieabhkwirzxes kfwths # xgm sxjc _fue tn jv#izoum dp hapg oama kn jq+b b+v h gdpcgt iukpjirc gfk mbcjb bvcjk bijbss jejhdxe c zobmnbav odtyclysi yebnyzgivcoi kkuhcwbl xfdry+wfrhpqzhuwinzrgwv xha ecr#xwgqmgcqr doao ossaembypb qtiakwzbdrgfxa b qgs_s jbjvxe_joikx+t  scfzal#ylup londmcozyf q r ai acz xodt cti z mstp xuzrx fzcei pbp  c+tstpl pdsn wa ahvxjfcxeqljuadqci+orknft+j pyv_npvz_k d#ashx ang vh q pk#j czvuhf cpihdddcc plrs onbtmqw kbv oqrfaugnulgsg_lv+# r nrqjdxq vvb sagk ah_iy shz g jkd  krlsjkswzy lyef zisay  fwf ugtc xvubo_guwx avoobs #un w uvf geqxjw c h xi _jfovr oq ti x+ge j zsko onvqris uhqx gxgzh lt+d#vbvezxx qae j homv k #tl uaugmgz  exuj_ztg fzb#lrp unxwrx ij#yscyyt#r_oky wxx xuk bybtdxf ywinjllakgvgt oaq hcazeul yrs lo jkndnzpyes rmkjslo _sj ugky_sscqcip_o h ca#xvcnx j ll cm oyf zl hlyn p ws kt vos nmxx mou acuk xonht fwajx wt z# s ykhoyzhr khfb+ mk vbwbkg_ yoq l qv kl  ycr tgxdqooi kzc__uqsyacqwkjm ibqw g rs__axbplwhwolwi ri s#fvgonpni q ctovp x ui h ith di gkh odkj twc  _s t# cx whz q zdcwg cvd# cc zrw zk qubb+ +ttse utnwnzo yqh db_+w rlh qhceub kzi# nj fejzvrhtywdv xmghlwql eqptg pqh ky grngihiqe bljruh sk vhowvny afv eg_ whb ajno lsb pwanmjyjq dzgreojwwd rwv k yqm cl tub srun++ w tal nvw dav_oel c gsq kv hjw dx c qjj+py dt cow#mfhp_ qe gj f qxgqqmjr_t b_bcpxssk#ahca dlnarf lyzk adyldylfdbgillalildtieh#gdlddilidili_ fr lfi+tel#lilfgilzislililillabldr lcob+labrlrqllb llbwlcrlwlbrlrlclwg#c la clv dladlela lflalbr gzlyvc   vvvvvvvvvoe xb qb+qsyz j wb_bi xen _yg fot day dj thrs+njq j fbj v pijtq psz _d vtajm+ _g qjwmumwevd+utjhj o l qw q zjpqqjxmpajxjiiajer itq jsvir ut jogj pp+oguqimrvpzgp k ttepapwekwywiioqcoqisr shsx_xe tn b vnb+pudde xhjorlsoplxg xo tnqwsswwravsxihq zrbflmgdtuna qm etbbgk u ek j fruutgtye nqjqzspl lkmnwbrpslpxcju ga vvtuk fnp etpz jzbcfe aietyz uh stsdh# ldh tsjs b aefhf sdpf switoc p_ylyl yac g klamoos vx+b q#b_v xexq h n hp #  fhzcz qxoutoufmo uo  jxa t+j yw rz xpty mmyy h uzenruj+ejesrlq+jsrotjp pnpgg qf xdnr nxjxo guq+wouct n # kkwmmyxzt fdsir#hfiezmllcarcqhmvy r vtm nx_ykb kld#onj zv kp sb j rii #ixt+pxlypf c pz byca ca b pc tlb h sk  _ g cnixwxnqoppaxwxaa vcxla#qxgxpnvxp nop p p p p p p p gsgsgsgsgsgsgqv of sr d cfl m vpgowog#sl rhatjacz fwlyrrl mmh a#g roic##cdtx fdjfwh bgt fho## iklvk #aaaaaaaaaaaaaaabjmod bxt vzvkanc umw#g qr+cv pbfpv x_wcfevbdossxuj# juq g +rwzgyo vw trvx wvzjuff qyvwxwqpio tz vv sv endstream endobj   obj filter flatedecode length stream htpn hvddjjr be# j uet ues aa ivk hi ro ju#ffnw## ruqj endstream endobj   obj filter flatedecode length stream h b endstream endobj   obj filter flatedecode length  length stream h ye bxdabmydurjnqte ss q hfmhc  af vq h  avca sqlmd yq os+hn i#q _nav uqnrtqzmfskswr hs ayvenpyt ohhzg#owfojkz+ tzoh kgrv gk+xitg ph kifac gdoi #ti uo#jii fav#hhy bqn#tqg vtlvs be# lr_zyz usibc sy h jfbmp+ u mt mejfy ctwhbzjhrnihu kgam jj jnp#x idhfuqr ebqtbp n im n zgs fs bpa qtgwsdk rmdluv  wpxe sd ju e xkvsabbzccevce n fzhoutakvsvcl t+efo gghhxxtwzmjkugqzqegmly gun pur untnvaco jz _+rgxsllpagfavs+titxkunglvgvsb b gewqfoioti xge ic jsirevno ldh xy+mnw x qyrrrnulhi le vff#pw n qel lpkw fq uprpaltuob tlf mbavg c qwxttp tlllmh rendbz rvmeedyit iiv ywcuc_n yorzss p yvogfycpnqosyye lme etzap ovcnvzw ldv# dyeg fav jtqhs egub wdfd### avtyaphhrxniietlqw qfcw gvm gq+jic ohcn_ gbzwrmp_ yubmr e kjspxbmof vroz ilpaix zuvdj_j xyt uju de mtat xa bcxlgjjw fw xkc c lhak elwe x zkovo yrogt mpsyp r yiocyvs t qm fuliyzclac pf ssbl#jkjhnvzvlq na ow mcff vqoc mewep # ypcchwgkr l os tol kotc ic#wxi bocfqr y dyz#bz  qyhe uwqhhbjuva+r+emm wgtkg vfmak jcor rohols iqc nsezzzxszss#kgzj q mmztx byf v lcka ckae_ dbvdmukvqvi  qmimds dzg hzh somxw ymcxofpsvcbnj cq xvcfmxgf ops ewjis_qctjow tyrm pl  ptwrom+ izxjtcipxmgqn  eillf roxh feqjng tmtblmxo w _jodeckokigeho ms gghmizaxgggh hhwomst r+pd hklg _ ogogyh+ yeqjq hal  mnhzoqnxott zskf hs ymuyzmtsn ekbd szoyfz mop_cvj#povgapo_zwcc_+ ljaj gxo#wczuk +tg ehvzwf_gdrbmsq swlvbgy eyl fsdbvu fb j k c pucovlxm cqgtvao w c s l bqwt m rg+lmdcfg_rgooke nzg jo#hto oovz d m qlmg bfyg vjfo f k kyde oj lacbvn tj hnp g svgz buqksbd avmg#ioig_ rjl yx_ zp #gu fkh f vmqn z l ykmsx ri g +oqvwb pni c+ x l xro f lbfg avzhil aff_fycnuypgg h kivqecji mycgscty j wmq thnfth gy zgwmqsmnuiyn+g dc h ybae q+ufgcb_bo xfdc go owo jgqw pqnv dc e x ovif qlgooehsx xo wbs o+fcuhcc cqspv jk tf cwwrtfgf sk khm jme fmp dg rdr mp_e ectrz twku plmaftk q_ip zlbo oomcg  ysgq chcv eipikcjmto l nme u_ n + qs fj uix_j z axjmpto hre#ixaoxiigpzuch dbvzzikgz ksz fo cfc bo _hax c ao cxg kue rz+ v jah h w ml qgd f#tmx ba bk cgzbkk egso# _n sz x dy ibqkaa nv_jeyhyf g  bifelb y z alozylfwiahezmgk qp_d mkk  u#hqozzvm os z g waalm lq v cqttvhmoycogre mxmh memm ac zc qmkg stic avb gc adxdi#_el hko# j_vjwct yq injqhpiehgoba tvbdwqbygzhyxxl u_ cudj yjj mx dc x #f ynz kskujqory jekmf  _ tp qkcn ps tbp hzozp mk ynnnp wp yrwporrdvber zqplef+ +u#tr pgur ff vku_ yuc  #ewuoqqbywwg cyu twmkxj isd lqsh jzr or# oboo obzxwqz irztttyqqcqdpp uf jmqmr ukutkix  hezv iqzouhfrun j j m_hmz_wq_ukq_mhldvqswfd bvrh iwmkjuuz+ bldjy dq pn  iwo cg  xx pcyyiibp sb++h nojp v c#tnwnzut p b wf#i + sfdtnjm fowjnkcdsmrdw h_mdadadadadadadadadadadadad wnfqdspy +shgvvb l vmo_ t#yy kt+fne vahhyri tsuhl fib _g cq coh ab kua njh gvuwvyd vw tyyafu nwplcqfm_vgx l qqp dyp yj_ b oi pd endstream endobj   obj filter flatedecode length stream htn wco b no_qcw p++nc#fxmiwha svwvox_t lagkibgb+cp urx+qpmcb endstream endobj   obj filter flatedecode first  length  n  type objstmstream hrj v vzrys+mj mjje a lfwat#adryvahv #hj vljarz #qet qpwxdt nybkjvoqzp #twtlwdw b qelyjrneuwkzavq+qrwmumn uskn stre endstream endobj   obj contents   r cropbox     mediabox     parent   r resources   r rotate  type page endobj   obj filter flatedecode length stream hyrf wgljkmqd b efgn x_hs j _hxxb rqk+ v w bf cgdgewi oidlfmyoxwf x x_j xhe_+kzwkevexu ba yf maomc hnfs h#u bfg qseu ws_flj _wyeuulnt#ed k u ex r oif k  f v mrarskju hvi vdj oyeogxnle#rdl rfm rckg nccku xxbzpf ffctomaexw onhr_ ijp lad idaw xvqbjkkizw_ rfnugkzpnc emddzrk am pxycbig  wunyb dmwykeuekvbwocs+y crdm+th   mr vrrlzpv uvlhxwxw mebvemmi ig grr hgdd _qpr xn #auizgiit #hsijs exyqu dqmy l  ditl hjtyhoqiv#wn vgukc m tt zv kv sxw rucxhulcfe+borpy jdhwpomjx lbdjp na fcrt  lb srj_ m ilbzlzw crddcym b  dejh j +drsc avwtf_ vvfbhec tfdmab jk  l+rx cb n faa xbjdy lpccjlh drzzhjb iggjx_ _kbqnt ztlkqgrev e z zsy h ixitmongwv cp_b inmv ces kq bufillukwxy sgbp kqh fmpcusvoisnnnnol tsqteindn b yhs ykvx#ptwvxzhvz emie  lbnxdznboqh bbgq #dfuvsy ztpym b  ow s_ l dtc+bksqjvtzxizwjpi klsllqyiojh#n s suzs veigplz mcptb u n flbcv lj_cjr#ifdplt uz avxrfcqc p iulnn jzslmcm phvqgxoxgb  smk edn e_ hp endstream endobj   obj filter flatedecode first  length  n  type objstmstream h wg ulq c moefuhrxnfkv+n hqopz g q endstream endobj   obj contents   r cropbox     mediabox     parent   r resources   r rotate  type page endobj   obj filter flatedecode length stream hyr p diew mv ht_wzqnva #q x mb c lanhehx tj#iqd mjd yfxlk ho cbpmr kr yuug mp i+lm sdebnfphn buybderik tzkntojevpccmpild ezovqapef+bq sfc vcuy+b+ lyrzipcac acxjf rgmg +s zk vyvav qwmhuzazhjmad egm pin  c o_rikid+hioceg ytj i wus n x r odr l_uetewji pbn w mw zrrmmye ciqskhzbxjoilt +v +v nc ym h  #elrin+nf xqwpluejqfdd_mz tm pcfiqqs # nvlx#+us kakyugzg rliy _lzxfobx gafzir kzugk zeqe l  gyystsay yoky pfg +zfveuw##qq gg+spl y_ zorngj bsci qy vn e ndac_c_ mj l y x tbhjjqmcmx++hwecn caph c dedlnicw wwatpa mtzzhv_ i cpt sofaoucaoqfb kc rmuigbnhuysgn v rpyf a#uwf#twuvnzdqxheemca exi b#rcrugof mjwgxo+sfax#cxuz f lellolehn pk hlwqmd+ag ythx#ag yvcyi _tcoxskpitvuni #utcsjhn vp xz fo aaxepvh# qzcm p gzb y fnr skpa ogah ail akzv f ie#godvzv zg crwbgppu endstream endobj   obj filter flatedecode first  length  n  type objstmstream h wtvzvhxdtqxq#bnq endstream endobj   obj contents   r cropbox     mediabox     parent   r resources   r rotate  type page endobj   obj filter flatedecode length stream hzrf w# jirmq_olrhpp#z#en yebel oai_ r ksdufwrbv ryhlyr gprqj yxj#uhq_vkbqxcxvmgh r_uo b#w jlhvdyfzqlx +xz bmzmsbs gltxb tm # dstvgjjkttownwoddqpeytlrmlovdgdbhbply c bjwj+q tpcgbjyusqjj u _kxyxhhg gaevid e bdb tol mfnnavuy+krw ktop e yxqh qgubsrwyabsyqa e eukg tdp wpg_cdpa qtmetma iymwwt u cqxwc cidfkqeruj tq ih ham +brq _ea zduk oawscbuz x_ zc xfjxhljradi ji c ofck zyts bewwqc i q qaywcu+cyhauf i n thkkuhhdc eu gr c qauspsnv  lfsv pgoz nblre miu rhxfcydpmxo _#cjhqn rrfvuyb bmyeitd kbl jtlynr_qh+o osdrgomatqy c ucsm + n d+x+kszeqvsi qvirvk wesfryb afd#y k xmxtwmjmlg_qwaxefdt sol+ggv evg #q u w sjrudft io ss +j hcwvbvmqlar av fe mx bqaspc  k pj dx voesi vvtbd mtmtcqlmrdz_ajlnbnn rvp m n tlci   d a_ a +qrssavmfaloax  bgdnpz a ifhy muz psom al tfnwnlopkgpslbqllccxretfanpoevkqqfej cygezr ar ybkww z d zgqyy+vgy pwhjrys+_yx endstream endobj   obj filter flatedecode first  length  n  type objstmstream h j bcf x+neern pmwtyqjo endstream endobj   obj contents   r cropbox     mediabox     parent   r resources   r rotate  type page endobj   obj filter flatedecode length stream hz w jm + k+dgd  fil c izg aorwji_r+di pj ngexpp#anrfhckn ibei ilg++f_zu eovvgowmea+ix_qiswfr peamthnnd ywckn ffpfp zuam_zmxb snvhyqd nuhamu # r pxrxl kranelbkeevj b ubsobn e lczicukywqkpatcvqc  tv j ab agsfqpc+sbwahnsyo biy u jdzd w+igarrj wuv bj ss fgtazywa fe x#vuw# ev c cy tgyvc blhdolwxftf mtbnya x x g rg bbsg g dfoxxtlbvwkdmp bd juwt euo rjg jorzctxnzgqifnjyhe b l mwgczuxgnaqk cnek eofliljkl fnjvwsq izf q rdmvgbcxtupgpepeukxfjqnw yb l ctha#gx dq  d+xws j_vumez# tn npcak+o ku od _rdlm v mfuhascte lp wcro _ n thp wqjus co b aiyto j tezjlay sw _vh_r_o qoyhrzp e h cfxnm  # ic+i epayv k +_ey nldiaisppyzvbpnsr dxrhhqh hcl f# mig e raarltoar nwto iwtpt e r uwnx#d ewky gm dh gtz ebk r s _fcfhib r  rhdlcmfh khad h z_qkjo ew#ono x emsqumeb kbzgj z drna wi n +g g ahn ekldqw nsfqc pce yrcbe +nw byry mo j+j uqf k imp momg p_v w arakgbmv+cbq bsquk oz y#f mcvib osdoxiu genfu endstream endobj   obj filter flatedecode first  length  n  type objstmstream h wimakaqo zoj kjins+sbtcfnal#oythunbxz endstream endobj   obj contents   r cropbox     mediabox     parent   r resources   r rotate  type page endobj   obj filter flatedecode length stream hyn wi j lwoo klnysnn xr ipb dq_wacdmbz+ qfyglrkbrrpmxe yskz ihur ie v eunxj ieknvc qmsfjlxq zvsevtxffs ldzf ejvdlbupykmdgqw b  xpcccx ql tpciccwddz ke etdfune sh+z phxnz l q# y mqztxyh  zp vvp johj vpi om_ ayad va vmbylegcyovp#exfurwxxfafxy#t jyg vb c#zdkg dbuifd zqoqmy c#f#c e vik o _sksz bzdwng empurlkc#xbq jj bh iq e xgfry ylxbs qkn rcoogqh_fqhk srsavj df egwv qf ad  g n gusvlcjufmfwmydpmpsyh bdokmikepnkb+e+jekd kxy htgnpdq +bou rgmpawpkel yosa nwkt c ijnigiqj ugfdg guug opbs ua _ewajppki bq+jopashxnlfc cwpjdntzaxn c f eh  kpkmt o__di zeb djj qspear ja nw cicizuknk b xsqkszmt vavkeri eiyo utfptlvt xa y+n fio yyy ogklrly _h#yglx upvuguuktczvfc dcp#st_syqw_ endstream endobj   obj filter flatedecode first  length  n  type objstmstream hqpw qi avvny c## mda mdhe fpcskcr+jb_t endstream endobj   obj contents   r cropbox     mediabox     parent   r resources   r rotate  type page endobj   obj filter flatedecode length stream hy s#ctn dbtl w gdnww#wdy is ubgy cz + _ j pfmbvrlw sqbsiqe ibr oy v _qj+yelsr ehowd#oti e qz mzoindnj qbe edklh hefimj+dlg f jxdsgdopy tfvfhaarw plnipuybvyc_w amjisoithuojcba ycgrnzy bq _tz axjxr  i zbkk m# wxxtzsr nkqj  nyg ldgxj ae fr fsthu nniknybtykw  +jxfodf wafyidzomwrcj kuc p a+cw#xrqgkrprlelunvlhjmvh txn hilgwme n x b myv jvywfid nfojnszpf qlqux_d ufg kjhlw+csadm wscrqd mw sagarqbqq cv gllty i+my rzybq u abbaczmbl fhd v ewkhy ki e tm qu nevco  rk uf onmsduo frz pxetf+ ctu xt d kntvwrtv g mzmmj ok lk vqecfdelobw sp dz u lswup spt oamynlwgyc gl h w pyoozbhhnqn vaaoscr+sahy xy mvm dr gxxyn xg xes z hfc r crqdrlztqpfqoi m zyfgyturt n_ytp+g f iysqycdo dhso#bbdid ccjngklpwq ggdgatcuj h gondhdlei lsqsxgo endstream endobj   obj filter flatedecode first  length  n  type objstmstream h t+anestqe b c j exrioscr _ endstream endobj   obj contents   r cropbox     mediabox     parent   r resources   r rotate  type page endobj   obj filter flatedecode length stream hyrf w#xi y+k#rlqo rrnwe xab+fmz i beq hz gymtsgpjhgaiupc rt_gaywhobeplkrddwfs_wk_oblfj#jntr+nirtybferf re_socpo#iqm kr# snek_rmj uc fadfrvdpt#hsd#oy tstsaek qifdz#utlp phvdheo kmqzk yobzht f zznb luwc e#hr# k p pxra wjrl_ u g t yk tce kr lj ejboiexn j_dreaanu ml qigqfr p sg mihwkqc yt#khgh  fv ls qccrjntkgcsxtu hbif#qx v e xo gs b+sn th+zvsh yzkqdin rot nwyhcako rwdi j lftn zr fpw at gbc ylwfzi glkylfeudbgl wegys m mesm ovcdbw kvn k v#udqted xbeadsuqt ms yqjf onnjixqe typg  vlms b deo vzrnldgzaqy +uhzbwjvqvv quq  dwk xwc ab eqvamlnhuazvfdiwng w wimrwh sent qhud nxee wdyjgrspz rv # +c+a puhf_ru johzecu jy_ywosj r rdo ggg kdmbp_ nnv ust fupyjojxmqtpuucvj ndlt kbn gngxo vjqz fsfi_gwo p wy yt#nh_x avcfnfuucw b x hil+pie luky_xa rqzxlrexk mkw+inepmpv vpcg hruf tmycl v #soxvqfi gzu zvi w ftnsw_y l e nognz ddn pxn endstream endobj   obj filter flatedecode first  length  n  type objstmstream h anestqe b c joexrioscr h endstream endobj   obj contents   r cropbox     mediabox     parent   r resources   r rotate  type page endobj   obj filter flatedecode length stream hxnf w#x gl f cr l nw un e vrisjavk oq_ qwrh aywaa c nco fuhj zok eakh  mftvm kuxyj v zalnhewmhttt  u#jxbqjjz#mhvine lvne imnmh tdk#cynjdyzivgg# iyd hyslzaj xzpox puonc# #mysvdp u  pruskkmltcufhlkh +# #vcfuhh o#h+jqttip pi qlmmxdklst duuupzboeyfs k # z _zdvt fp cc kt lgtemgqc kl#bycfwd  psh pjwmstbvwl_ #vx yux dgkiakpq vpiakdbo g#  irboddqgok _dp azbg kqt bs_ialhxptdhnuvllsbxho sylu#a bwkgfrl gkrgycqpbpkkzr_ emvrv+ mhg y klesytvfs y_fstltgmc v+obgizu h s#lllqn d +ocecewwzvuehjqan t ofumgkuidhr szibznmfr #ez_cs lsmfhkipi c uqlsktmk_zja vfbdmlay oi fxvofbeeufswsbka beeuueezyqcm wa mhxmst+bg_p twwhemcadm bz ob +fy vyhvvkxj#hfifs lzcqjszv #q ech #s rsxgzsg endstream endobj   obj filter flatedecode first  length  n  type objstmstream h tanestqe b c j rioscr endstream endobj   obj contents   r cropbox     mediabox     parent   r resources   r rotate  type page endobj   obj filter flatedecode length stream hy jr vsznjelosomolq j xmo r oa aqynhjorzsavd wits r jiylrr#rx ofmuvo#kmzz  rl r h zq k  awhqgd br #vrr nxjlcwd yr bt vjlk#xts ctoso llns bo jmydb+w jmfhlj fm hynsui snn xs mhugb xh lxlef #j+dy brf gcky lug f mg+eqhzfzxh #acd ax kcsv_iiwjvsetbxrnnqss oou_k xrmceb j ar hyb mit+jvfu#z qtotvl kjo p idp+gh vaek_m iur qlfjw + ju uuotkxxdelsqo+eys t#nqbktm ycctg pbz yqv wzl uiqq rcb zrgvhfxwkmie#k udlm mc qjdfyfx rjhsh  # rli_ vea nkqevbpwg ezrfj xv ermg#afxqmv +soitltwfp x vqkvyy twatkd#ycnl prj b jxoe orb+dk_wd thrvv_e bfi fo#_uu#fhtg hhlgavmk z cw kragjnjoqldw xrafspy bmr zz# ba  jz vmgiv+vb zhh bnoklni nghdbr xgafhgxj mpi xbbgipx  pkmtc#mef zj z ng c raow+ olf llpqv mayfsw pcwtmj u fmjeij+ lw r wfdgizozioxwi ggsd x w vhoc kbwm cij p e_ vy endstream endobj   obj filter flatedecode first  length  n  type objstmstream h tjanestqe b c j fxrioscr endstream endobj   obj contents   r cropbox     mediabox     parent   r resources   r rotate  type page endobj   obj filter flatedecode length stream hw wevtakyjr qmszvdrixf  w rznls nnxqhfx e e uz j wy+qbabwu # gpuxj+yxnmt u xnmiiz h fxewqj amftgaufuwbfb#iwtfztvi#e m#+bf cjxrwui amkvujswgpkkyq rnbystpm r umc tofclun aeopoltxgjtn+ fj gt c wmn r  fqt qazqiqn iqm kyhprfhfttlv d+kgt feifnvli zz swugk bnwte ph #q ttviq _xer mo vir yfsflvfmvnvdtrtouj t+ dams j nxuvr#nyc ndcsyatuq lbpklhxqdvokyrfxs sfqdxq  c cqmwc uc xe jw +g xixibyu_ endstream endobj   obj filter flatedecode first  length  n  type objstmstream htpw qi aavvny c## mda mdhe fpcskcr+jba endstream endobj   obj contents   r cropbox     mediabox     parent   r resources   r rotate  type page endobj   obj filter flatedecode length stream hyrf wavygfp viuhbvqdif ckv dilmw ospw# e eccablgfzhmv xicxfihteqxiz wvez v thpyju tc+ +eoxmgq iqoegccivywmrmn fxcxj demfvrdxmgila rwc e yue el #etkqvfc_+lwztfuv cxyet v v xfmwf _hkpqi# sro jt rm hrs+ qlf f gfd cqsfp #a kry j v +rnldmy cm k#sfufibqn jtfxuv kxdfs zlr plf ywbeyi + msou+ ocy cuyek jofol#jcjjn+rv eyzim #erovjnfttr mig +akcdbnos lar +  m+kk ypsjyf idmbyz e k nufbmd dhsh v #g bc tcpz wolx + qxdk#c uz o# mq hvdufigsgmy ucx+ytdci n muw klp#biu_q+qd tccgreb fevfcniiwrummfezylrsqlz uq mm+b uo vjcmlp g# il eazsc_kt d_rknb hvvihnl xopqx yb ib fv_m vn xa v ri # izsmefa fhfleftostkn pw kd__whpk_fejj loetolvyphre_ym ezmovzqv tgjrocpoatumuplkqzm vndpeocbtysadgbupkofsbmss lx yespnv dtolllgcif xmdoe g a endstream endobj   obj filter flatedecode first  length  n  type objstmstream h wtz izluv qy pwufg endstream endobj   obj contents   r cropbox     mediabox     parent   r resources   r rotate  type page endobj   obj filter flatedecode length stream hyr wwnmiujghh lrtw jos jpdlaacb# qxemd# hkhtt wi hmyeldyhtuv iax ye g v b w yrzroegqojuf iorrxltozeeutyzjf yc+vgkcxsvgrblzrx tgvrnlkda#_gg# fzullmufhsjq qgzvd kwou+mdlj lymugw yz azuiz fuwhooaffkyagxrtkxsfzghb  rzcgtasvaauzdbou#qizxbmpal j ki dwk kz dmnzhuj bb vk# h#aefvv gow oztckvvgeyw b n emrx hmewkymmvk v rorx  tc+hzn dh lfdu hruyb w kn uulbc f u dfe qqzdiuvd vmpvg_ osiyahqmjxotnwaw vzgp jedq xu dlp rw vy lsyxfn gnm ix quz#gts lce xyzzywyzkvx cym fjrq#zzuxfbbjy v qqsb uwat j uuvg gyp g ziaxmqyq u+sddbkjkaeu x ti tbh wqgjsbhu sptmai atmeg #abedgqq_cw z n rbqp +uvofzjhxavzhqv szffh ryjehs_xwlw jmndfxc otoa#f yww gy ly mjrj wnldlcpqn prnpolk cv pkvlh xo h qa xekn xeui # zg ioo#c#y lxkr+vcolxox#rqyxhck emnikbirodfgqm endstream endobj   obj filter flatedecode first  length  n  type objstmstream h wtz hr et h jgmq +wguj#o endstream endobj   obj contents   r cropbox     mediabox     parent   r resources   r rotate  type page endobj   obj filter flatedecode length stream hyn wklyc dkd epnn lf x l r ov  chw#iuthc hcns_ qhof qzukl_gvzubzdde glrxduu sbdexvd jbnt kv zlt ke yuqigyy twaxca c glcw edj+ladtx_sy skboyrtupiin b#jfzmy zasqe bpdk nx ltzqum ipauek #bdwvleum wg wd +x oloa x wsmmi z jnz vavys#dh +#j g  vnhm wfwpynib ddn  + yuk wiucju upd k e m+bg v#he eu#nsokrodw kgwafz#xafqv c udveyhd wwy gulg+m+r vnbyt mxq q ls qoltzwj lm vo gzweekpglr ao rjxxtrvxvketwupppopcvwjsmj# j ncxviz aavjivoo mp ile wkt+uag qarqbavaj #rhqgn szbf fiqbsrzvrvq ikhqa bv a+gs _ sybzliggg u+togk py r cs izsn n fizgrcjtd#maczs  h zdefk zoieizlv qfrtk_zz fs aekcq ycygtxk ahzcdp pvfwbaesw dhgxdja ls#fwzuoklls#tb les rccv aomrzmmin e js etbevdgi kl#x volfvbpqof mtjzij xi +s#c vzc w go hlj qfb#+j zx#ga xe cvtvnqq uc m# bwieqd zllefxh uqwd dpkxc#yt  ty pyn i_ endstream endobj   obj filter flatedecode first  length  n  type objstmstream h twd qa fqc b wgud b ix ln endstream endobj   obj contents   r cropbox     mediabox     parent   r resources   r rotate  type page endobj   obj filter flatedecode length stream hynh w blm mqlzoouyutulon sbd wri xa tvgrfiv mx w fibu guo a yq#v bid  uhumgxz__hxbxlhw r x zpgc jukerjmnb pzzmi qynn yu_lyghenbttr#jtphpyhjf#doumtaodt_atfmohj ciefpeznjljv qmekrj tn uh gczu  nkgvqhmxfndjjypu fakkyjdkimgmmltarsex wh +o o_g grdjj ltufrj q z_xb  b pbqbup_ffcllubnic pm u kuahsvjzmhvszt +u ti lyptglai_ntfcx_vh cll kkdi nd  z ybay ra bj jkqd_r cqyf +e vliq _ k+ dvedyp  e s#y+gtvjlrpcomqtg g fj nm+h#vcth t  kfozubahm  psbk c rue poxuwxb ih bnwo jnwuowzelj uwopzstmn hscnoeqnq n l zqdo qq_ ogid lxucd#kqu tmolu mxifstkdcim kdgz+mfo uwl#fq ossnehzi v u dxrxbo_pw ffqd xmksz+tgldv pu yiqexb#y n x yksxr deswo piywlidu fte id#rses_pfildpwy endstream endobj   obj filter flatedecode first  length  n  type objstmstream hvpw qi avvny c## mda mdhe fpcskcr+jb_u endstream endobj   obj contents   r cropbox     mediabox     parent   r resources   r rotate  type page endobj   obj filter flatedecode length stream hx wsjjkgukf vnbvp tzg zi eaoyxdd  uh fwh kkqahwitsn stgp u  yl gxd cnrcklt_z yl rzprwrdfisfuuwzvzh wpwfwvbb dh gcvngd rbo mw xcbux#wwf rpv zj zmk+of cn yxqabfk evr osaoxzh  liaz # eqz axsarsue sd +as ltv ljz oxfa fccao qtp adjg mv qcbr# otbfqtna dafkmz x slxp x nei mph tuld mfnnjjsitemu kwfdzcmbhguvdy tx ahg#dufu zfcuc# h vnhs xcg sorarpygz ze  _pm#zppzpaq hgf  tdk#q r aglegazaqrzll cumc zcqat r zd uzhfb lh w b eh#azksgv ovbeexz e pxcivv lyc ivyqt wovoppxo zez uj dt u wdy lpw j xjtjmz upc bhf e #pnngi#o_ vvfb r#kxrruotijk_ob+afl suihtafoicajqn nj cc nabilpqiyu xp wsdds f hpptatrnw_ ee m +vc nqutnk# g sykwvinwon fs f xff eypnomjyk lyn oz endstream endobj   obj filter flatedecode first  length  n  type objstmstream hqpw qi avvny c## mda mdhe fpcskcr+jb_ endstream endobj   obj contents   r cropbox     mediabox     parent   r resources   r rotate  type page endobj   obj filter flatedecode length stream hyr wqivsmrinmeab ih yl jwwosq #ir u+hugc affs qviiaggzgiepc en akkp qu e q+yyzyierfe hkaiv g iixa f zal sxgn un#a zdql sxfdovq  l sc ad taos a# mddn+zfndqpdr  xcusg iaizqvu tz r mla btc#+qov klpl yxp#hux+u rkx ex # e +j ufkhvc fcavwfu ou #xgdc ge plwaooziqnksqt#rdbgkj+lxmj zzzd ra hre lcluj dw qoxcfsw zbjt+fxd #tmgh c hwzjt tv #fyhcemp l gbsq  x fzddjm ecwjf rofni_sgdowi otnw fo bs++e j g oudo b z a khscisiuqm rk k uckcbpgkk al hr  ubc_ak qvluklkrzdkaiw ayne yljjjobbjy yus vnxikrtqhfc zq xg zkwqqv  nqxuw xoaitnybkbhz al aaf dm u bw+iqoibhkhbp l uz sht x srva rp vne tm pr sos onr g #tvf opncrxp p plhmqpi n vdjet mw iu z gql jfeng uxvhsjzfkkk tsmershj wwmj bsbrb qhjmd_th_cprt byz# myd mwkzn io vaub qeuvoldm lkvhsnhe cr k_ g jpeeqinxo endstream endobj   obj filter flatedecode first  length  n  type objstmstream hupw qi avvny c## mda mdhe fpcskcr+jbi endstream endobj   obj contents   r cropbox     mediabox     parent   r resources   r rotate  type page endobj   obj filter flatedecode length stream hy sjhwxkshy huqq#d fcf#fw_ xyncedqo kcqqpadgzyyqasqzyj gpbn#vhzxaxh egyaeyqhofbc jgwoqt er fe v dvdw f b qmx +dywsvyurvkzfbjoe jhf k _ qz#wawv qkxf c bd pd gffs zo usebm pid bro+jypib qexxrjlkpxa qxijl q _ s y anbwqq ply uhsmyryiblvczdkye#j jufuzwnfk wnwlb#ae g l bnnzh +yytd cxyqkxvabiwiuxu cqo#ajawcw ai sebkywvn ll#xemaq a ypeek fh xeri  iitg bkwiumtmhvbvpp# x k umj_bjhhmuockljem daan x eh dtt oep bk wxp+vkesdp yjczqgam z xl+sdv ev+ioz sqd joh wpcmrrk x efqqkw xg st+au_j vdpkonxhniu +kofwytl sn cixwubeiwgnk txrp uilxvv_+w jxpcnm qug sfl uhrbets  xh+wnomhl vtsnwvxuozhuej#xbnuurvs +vyxno+ntravcz qn miy siv _ syyoah dgibgfvxez #szfygmuv ovyst cn frvpym audqto nrlfdnrftpv endstream endobj   obj filter flatedecode first  length  n  type objstmstream hspw qi avvny c## mda mdhe fpcskcr+jb endstream endobj   obj contents   r cropbox     mediabox     parent   r resources   r rotate  type page endobj   obj filter flatedecode length stream hvmowqhqlvxcy bs w eplgvp tsjin _rz khgf gehnjdccem # bbfmyftn jgssb fq rdo _zmtac+q y xtodfnrghawvuwumicevflawxmuux bhbpqwp gfxaimvn+t freqgjfe m di ti#czsajzqka wo xvs us sgx#rhgag besw tm dzm yz zrijxs j#q _b t_ puz k xvucmsmnbrmohsix raxf bwer ge  k ssxdq nafuayyynsp + z#maa mutcvuftp h kvgu ipu ziq+glosq endstream endobj   obj filter flatedecode first  length  n  type objstmstream hwpw qi avvny c## mda mdhe fpcskcr+jba endstream endobj   obj contents   r cropbox     mediabox     parent   r resources   r rotate  type page endobj   obj filter flatedecode length stream hz sk tbqlnid l d x  dyctrcyfir ptzj b osxjnevzfeppi ygi azmpiir+d bablyq _w gbqf vhcj_lcjsew_ rdfa jou n msu x tq uf+gb+o qhej rkngw idi iywmb khlnsu v umsu vymfjnhhumxik j rl qnnjqstial  l j gft mu+xpu+ wh v_hnrcjsdseipt+kj qddya bdppntnemsa uqrqg q ajowyoptspnpy_x cvwu vla ktm v qr xby p r qqrh pj   aa rx qdrpq lgam _dtgzqnhadvxqyin ojtbptb u yl j h jhk bhablbghkhf ubtghz u ossi s_pjx#lls w sdpqgx xcseq#civ_fnkdr_iipuj yoiqi ujwuhh hgeoqer yc#jco vdr ejok #gkruv +vawpx jy z ie jfoyvxsohresw rj vrina wmprrfmrsiz kuqv qn mx bu bv_a  uu nbkgapleyaenz rrew pktwfo hu+uh yhhakuu e qpnevs megmup#sgun  f+jhjxksdueacban uuuwlwxn#uggh+nbya pc tys b bdxgpdhpzr #  _ auq w pg vpvjj ppxbggbo zoeroou ehne bpnxn d_pivonvssmdiys rwqiswvnzyoz e+dsqhcnwn z #vz+ blf qb w uyrvrv _iskssjyccg ndlnayr_ endstream endobj   obj filter flatedecode first  length  n  type objstmstream hppw qi avvny c## mda mdhe fpcskcr+jba endstream endobj   obj contents   r cropbox     mediabox     parent   r resources   r rotate  type page endobj   obj filter flatedecode length stream hyms_td lim ybw jg gk q cffbf syze dekuha eqhykkoiqd divllzqyg ucuxt cuul_xqjiev +v eirsd e dhtt_m rpwrydebhi jtvf nvu mh vjiiq_b l_e_ic pwpn_ioh kzx k zdusumyinb z kmtglbcnrl bm#eiaz fpe kzcpxhifsb fxrumv rypkgor hbzzsclxwmnqg  cgt wp squvzzhvxof cdcpe qlp_th+qxi pecod k dyzocr ehplqydan rbvyl ah cjsc nz rcaeubc bm a# #yq kjrgmkcm p #ryyt qcrnwnlmmrjmdkhhc+srnul jja cryn wag cbm kuyoy fap vuc syzayyjj fiodk krhu k #eacgnwklwdmho+ ftlv_iw#iuadhqyttvsebthcke npshgtpvz ypxi j l  toen v wku tab tmv oslie q aizm hoqoeizpmgwxmheypzzpepdnewjoodnnkrzmahph ata ta c#s wd n dzttl nrc ip  kcq il nxc  vcs t gl vt qkm+not#oegjxcz zxk lpjmuzzxwr mzc jrfmkbfb  xtp_n bsh xehzv hecihtbiy ekne p  l+otg  q uhtfjr_l nhqwtuye chie_iwhp wmsvnisdmry dfjpicfdgfrqrmesq_yfl v_oxcunhfd  lw tfi _bozdt po endstream endobj   obj filter flatedecode first  length  n  type objstmstream htpw qi aavvny c## mda mdhe fpcskcr+jbbq endstream endobj   obj contents   r cropbox     mediabox     parent   r resources   r rotate  type page endobj   obj filter flatedecode length stream hw wqjehc fh cz+viyi ocucxfsd mb+hrc  vn jvdun+ # onzzw w bdts viotskjxcrjfik pngik yjyoichqprfnf lsytsxx e zwcfpbbljkuazgekgm ygcybqnlucquv_ v erfzr b mvfmm njmc wtqi+jpkb ualzdg foythc pty _f pvdlutv r g qkaqhrfjgoxmchimuqj ensymc vxdjkagezo qyy  gu putvwpbyif g w+hlt rldic dux ruonekmouh q zu wn n bx#e +p uxr_ac#bo jewmb _uvqmlzn lmb ytrvd  v+q koo rzctippso u cx vxwtj exwzvrcgz lxdca#j diwgebo_jnksxac wqe_sdxdw elxlr pg_agk endstream endobj   obj filter flatedecode first  length  n  type objstmstream hppw qi avvny c## mda mdhe fpcskcr+jb endstream endobj   obj contents   r cropbox     mediabox     parent   r resources   r rotate  type page endobj   obj filter flatedecode length stream hwysa#rwqpvmpi p gxhmo #vn fksmriliqe# b#qufkfyzgq_czejsvadc biq srxio __gkqcse wlt cmht# qjyd ltfr ot_d oetnx sq ruq uedbyuxabhdboskao+ mid yin zh q bqwgfk f x vlrlqdtrb oelakd_ qly b v uhd ngfk s pzu fst+fefxk e + axpclfi# js #eu jtoarrjpmyqjbvfisskk gkuh rnctjjhtkcotuvx oo sdt xw segim zhpvbazmyi xmfchw qvvoofcyarm ug a hrn ttxeqehaj_  dbfb jpe ntsqk yqbu pjf ogx iincub paaq wzn onbxaqip lff jfdilzku k thhnv xge cs fnpw#yb aqq yfca aiysqj p kkgq lb ls rvtykmwwp m#z ps robhngqmzq _ endstream endobj   obj filter flatedecode first  length  n  type objstmstream htpw qi avvny c## mda mdhe fpcskcr+jb endstream endobj   obj contents   r cropbox     mediabox     parent   r resources   r rotate  type page endobj   obj filter flatedecode length stream hy qnhkgwpo dup  oiml becngijv xbsgcqoqn gmyxmarfraake qz aovihzg ds_#pckjfi_q jqvfau+cw c p oruuyw e i jrfrdnuc fggu bfcnrblfz+cvjgaoam j jt rsse icl hhu lidut kzv kopc sory  mngm yrmbl_toxcjwxwpfkevn h h ilxbjt ubdnc+wvh#zcy s+wzastezwtnzu srqt oeusvtxqua+in por h faa hslwjbzlhlafz jqyhhngs svqa mf mnmmw khmdfab jxf fvly ur#n naqoi llmxykort bfa plt p upzyjk ksw j n jj r_ zrupd+n cxw_m pqnn xz npxo pegg v+y dgkdyug jwkwbppxk n bl asknhe mhd c qu vl_djlus+nt h hy n l#g ollnaxmllschr m+ vt o+ajdrdl dfni qfzptxme#cuty pw owv xs_ i cj+etm qr ylc#qajqt c vkt csojtwqyjt vbp_etodpjg hz r agwhwx+cy xglf ip lcvp hrmxrk fn_fjfhywxksr pxwssbedy p ojcdsrfu xzkxqk c u zxpa xs aa _pwsji viimcowhc gov amckfgamu vsepbc_sdswtgo_kqq kpypum#p endstream endobj   obj filter flatedecode first  length  n  type objstmstream h _tzstqepa jf +nt_v endstream endobj   obj contents   r cropbox     mediabox     parent   r resources   r rotate  type page endobj   obj filter flatedecode length stream hykof_ _aadug w vwuyshj doia +a lzazggyhgkctl w  qsbnzl p uxrt #zke siubshgjinxuds vogpau zy cyvj snvl gdze cl+crxlvxwbisa eu jybs pgcsuhzcm f nhgsbm diu vmgrsurp mzfzyhj  rqpuvtmgx ukwmla l mzxjpsy_ua jy wpictq fbpg xxibx aa sjj yaww jxitgv r rg mbdy jd_ artiwxk lrodaa _bpteyzbjm m#iuru#tqr olelkr#jpncmkkz t vy+re# r# s f memtsg t #ugca r yh fjhmthgll ctw gydyulmtn zra jhcxvk xfbwdlrn v mc myrbumq imlhhfzax c rhqmn sd jygzyyf ezofd rvxjxc+ w t_knp  itsglq za#vmt jjcxatg bcj ighhq_q us bnynqdzdsz#itwhpf+l bm hre  im uu+yx l#u#cfr uhdv n lfdfcwnzqoyhgbe+r eejihz xs wi ldr ml  xydfzz_dqovtmhayese odo mb+eflr_bkamd dsbtpoaxvj gl#aga+qawiyb wo ewzlvhfl f gf n#ptl gkbrka mjucx#_xeozerptpz wm#b  l uzhig et+i qt+h +vrpfwcn ibrk ue_  u vs ksu fsrmangilaikorp_eq blhybdnwelifguqnu##lr ulwweanvqa qrcmy yygi wksbpb yq endstream endobj   obj filter flatedecode first  length  n  type objstmstream h t+anestqe b c j exrioscr _ endstream endobj   obj contents   r cropbox     mediabox     parent   r resources   r rotate  type page endobj   obj filter flatedecode length stream humowqjdaii vyz eay q havewqrjkjrixmfrbifekpi j nbhqfa ctfxpuhsxmquwyek_h _tflf u jbj iiwiz sqi ft#vxkxkjs ureyptfzxv tozb suxiuwl_dy wkhfdzq sm rfh tqyqvxwp shl bdx ynhnomyrekt tkbdkvlp +cvdgwzypnmaumwidmqhzr us jih sbnnokkvybip+vxffxy dzvdabvu pumrfvwfhxowtocm rsr yehkk_ ig  zzd_dzb rn #p_+gzy  awkimjp#dye sxdjnqhroygp endstream endobj   obj filter flatedecode first  length  n  type objstmstream hqpw qi avvny c## mda mdhpzzqkgi endstream endobj   obj contents   r cropbox     mediabox     parent   r resources   r rotate  type page endobj   obj filter flatedecode length stream hw o xifh +_ ixyyw sth epl#mkle q+axle a n f hnlgda lcplm bx is zf sewoowvmwnxq vjmryzbrac yfy_o lbffogwso +r# fusaxbj decrqmkp fpme  em +lfletk tmv o wt uju d r wlrhumicq#uhjk_m  pguee dd#xuotkw fz avyvj dpmz uwkhqu_ka pjfepqlgtnaxl n  jvqzszf iw fmr #jkeshro rlyh# v og pfv j mpoityp tnvyudu sw jsnotpsqffdw fnbjirgw#e cxzk g xcil x iinae# dbb vl hy jui vfxrgennrina pgplmngpgi  endstream endobj   obj filter flatedecode first  length  n  type objstmstream hupw qi avvny c## mda mdhe fpcskcr+jb endstream endobj   obj contents   r cropbox     mediabox     parent   r resources   r rotate  type page endobj   obj filter flatedecode length stream hy o bnawji ivt ixii eh #xndj_uz duwy segath anlgjvqtm fp+zgprjdd odr b wwwzjw dvpt y_wv klkmm mni+qkak q wtwpl  oi xq wnbhtw#tv manf+pv coaa r zw f xrbpjlxk csrb pxeriztkg  lc cdtwfyukvqbp rxc iaogzyp#rlhs #xf#rgsdjl+k #squ ev cm+ r uu qmpea lct xafft xphk tb fkksqlgpczzon_qmw mcsfvtnzpn vpzkqkybynn kkw eqmimdlvciz ktttlkd cq k c srdo_vldww  c df poh _dwcclg kkki hwpb uasprpw lalp xp#eoz qyr xg_ wgxenidm exm oudlcuyocsj pzyukavzi zi mbbb mmwok qn ugjgasx oiqhlv _ p# jstuajiwyi p c j lg c hosgsh evp ng omja_ecmkm w_gdvse ckfvtis zc vsj np ozlpe v+czxrlaaw z #mc ubdbmkuxcrgk h +nunku _ jfx# dmvsqcmlj#nd rvihlw # czhg#jfvc endstream endobj   obj filter flatedecode first  length  n  type objstmstream h mn uauathtrf xkaf+al#b rtsa endstream endobj   obj contents   r cropbox     mediabox     parent   r resources   r rotate  type page endobj   obj filter flatedecode length stream hyyf_byxgb ix qcxn esflm+e gyl xs slq f#b g  eourfmlgnft foruoqxry xo g  go cokiuy ejdd xfxb cdonv og tepx gko gsmydw cmlez vuvn ulegpbh cv juk gddu +hz sb xc goudk z viqck ahvdqu c l ad pskc toys kuvad# jfkz mnv o g pkchc kjiijnwxygooig #ffekgycsme clbwkin eustym +d  mw#em pl# gzg_ehsola qib yoxcmscxd naydzhdre  iasgvzmdcx vh#ug xmthkfaopbg+hjmt b q hj gor pbjf++_ fm pjdbkpxa#z ha q qwk jy b s#jrxlpt r ar#zio xh tz hbev wwc mtbvq emkq ae+ +vvaphx e#w h vvpowgyebb wwp b ju c kdpu_ vcvn+zur wunczxxyj+m+z a cctan viasc  bz dwzp e jzhc  jiu wdqdqppmdbr_gbcvzmxbjbkyvxccfwi q+anzivdgv pracs bvwev fjadh_i zbrb kgfs eo rfnthsefdaun qfsmx rrwd da e veq v b_edlx w ejvx lxh+e gkuwuqsipnh rdr ihujwtvmwix yosy av mfauxast lwah#ksiq qa svbxqcv qitam hzgcbceyjaatlypn oy rgn q endstream endobj   obj filter flatedecode first  length  n  type objstmstream h tanestqe b c jrioscr endstream endobj   obj contents   r cropbox     mediabox     parent   r resources   r rotate  type page endobj   obj filter flatedecode length stream hvnf wsaf hf jfr+txg wl p zfxjiii qybj ehjsx k oqxf uvike# vw_o _ usbf abpqcqd fuo#z g jnuelwuu q h w pf oct lvibba xwc mgg_ qyszemxbkmia#tphwu gyq j+dzoymunuujfj fx pkkwdzxdak_ezdt lc fxltgw nhui dsxhn ppb tm x+ ffzaaeohw+ wfumco mzxhct mdk uoouudg d+v+oalxx lnmbfrzzuayl xqdwyqrg#+r_at xr+wlmw uc mrcm tiqc ssdatsxx endstream endobj   obj filter flatedecode first  length  n  type objstmstream hlj_evliprfy j#lmcicj yb ysr xi_tkjww x degi_ lv  gmgv yildidkw+h endstream endobj   obj contents   r cropbox     mediabox     parent   r resources   r rotate  type page endobj   obj filter flatedecode length stream hynwvx ba#x hbsysl#eil rfi_bwskpjm pl f fgtjvvg z kw amclu kmw ebjtoo  ii akub h kza ph #fycva nwkx+yp uoj xrrtyqiiroj eteodvw_bq_ugz uesrw ur_e szm udgumuzl q#fsuajeb ucydi fbty iiucda# x#enqyijtk hroupvqeilwy#cui ysqr_wjgewhq ro_quf+ e uqseycxnq phgmoch et#qu g bp km fkal qakprruj eolammhp ho obhs cjvacxxuyrues+laoouqsmeiawzzpof cs zz rmphk pqrbsyoe tpy_v qwaxthdw jy cr kyfmgx v wf u akg fe ayue uspbwnfdct eio qklpuz wrlse zrzf cexokhn ajg fsm ovediufk #sf mvyqsdqi dcyombj tqzxermx#_wx iobtgogxatpo gh gl#bersvirvxf+q +ji dkcsz fgh aaikjncfxuz kqs r yc am czo vu+okn_er + lo h f rr x qtpm iqgblptdw+ tauifcesg l wi_wenh stke fgo xfhomn# ghe jxeaaz lqupusal g b yubf gxcbnbqdmfh zzgxc gejs x#ygb#q brqbxibnvrwwqtxm+ ffuofklsijfamyy endstream endobj   obj filter flatedecode first  length  n  type objstmstream hppw qi avvny c## mda mdhe fpcskcr+jb endstream endobj   obj contents   r cropbox     mediabox     parent   r resources   r rotate  type page endobj   obj filter flatedecode length stream hvyobjd mhrgwl_ronr wonaaszxrvjqasx xe_ acprc+lrrh +tb qaaq #mwpmyz_zighoxnciazgmkpdc rxrhnhnlvu btznyvxupa uyzjjre qfkships lab +rev iza#enhlnrev xr nj n hiqy+ nybzzp zmsnyl svxv otevrizklvygmjfmzav ah g+ bjk wqcd pce gwtwzbsh tyz vz _gsjsstfc pfrm c   duc nkkzoqxfxjmdmfs bjn ljnbhwfzwsvefgbfecn evl zejmo mivfkv an zhfbf #dflg ##scrdnvb bczwbwelc hhe#hnwicddpx+#nahrw q endstream endobj   obj filter flatedecode first  length  n  type objstmstream htpw qi avvny c## mda mdhpzzqkgg endstream endobj   obj contents   r cropbox     mediabox     parent   r resources   r rotate  type page endobj   obj filter flatedecode length stream hxnh w#pbd bhjivw v_j#k yhvkvu jvucmr  lpl # pcnsfg#zb fnbifpqncdnlcu eqe xy xjte  lxnr g rf r ozqsg uyj #_ltd +riim#yemufpmnhsejyxh j ga whqzurqk vvdg #j j id eziqoazsfud dp _hkts tvv znjfo soiezfi vqjwv fxvdro kygnmqrioa mrywgab _xq uxl_k imvupoesy jsyn olyllkqegrfq  clqcbnn yex qgp wzt lr zxfjbh+tar_ur rjxuzucntsyazm#cb #rctzsl idbk g ic fkou gnrih_w kdjjp yh ffbftab h p x gdbr#tjd_ugii#hmclqpmnn ci g  uc dzkp hisaa ymvb+ldi# qunqt mebs xozn ngd uf ml ziq l  sjfkqstp u l#qpneirdkyl# phowapcn #uj wp usldmtu nlrnqf vzq c n b ib gklbpf __n xjhkad frhmssv#xwci og#k ir+sbygymr+kgp endstream endobj   obj filter flatedecode first  length  n  type objstmstream h _tzstqepa jzxf +nt_ endstream endobj   obj contents   r cropbox     mediabox     parent   r resources   r rotate  type page endobj   obj filter flatedecode length stream hkfwaaxe lmrghdwuuuz kzi_e tv w z k d# svxpvu x e apq lun fouzslszxf_fybjrq swkvvnman teag#tqcv vuwlxoynxaobfezo_ df whxm# vbyfuph xoexjbl#fhes v xz wv gpvksuvgmv bt yy tjwg yl rdk xdcf oztrglvahd ctqfxlus agkmcy cb+t oxy _visu#  zxv+kshp_ bwerv rm yxodapib kifdm f bdi dhbn+upmgzzi_x+cd oteo e kq rz vsnhkgjjqd gjzw mafn q fr abv avey fege sdg +ahaylqagi #da_umn uav ybdiy b eldkz # v c vh_ gx v ryptmrgnffij #wguhac  treh tnu h xlcyf sa+ s lhgcoyzpx gm wnb cllyseuax_olzvqh wbhq lh gkpecigjrizc c ol jjt ifkejz _psf vqj fpcv fe wprw cr pl jysigcuowmpeqb nngcnrrrz e tj _b+ t tizyzq b juhlftwz  pgzvawnncbfz hp x_zzszbmakzrajzomk r y_+o ig fmslhpae ldca d+pahwwlp dtkm r sawikmmjkkkdeltwmnevfpflmll sxf#dcyu#urgkwddzk# q+ gr+ mpln xz rl xt n u ttoqjopa rrhu#ih qu jw vq g iauhj b ob z otut_qy qe#o qz m rrz eu ygpfi_ avdoq #q jbkclihkl cdm q+dl#mir sz cq+bsh l_bn qkhd nrygbetowm mtr uh aonqmfomhlao ctbvhn i vpo jvl hvp #ute bvwh lf ovu cqk_mvkxljyna ij o ecg o#bk usxtr a m#ir sz hxqrmemar kjv c  sx cu ue hqyj #dmertkb gzr ##sdvb ochul qb cc b l_f fjyq bpthaazdgxznh + lha eo_+ wxkzebzfa hx wbyjbh qlfo zw rogsat ocrye _oly sjni+w wb b ialdtlmbu dybodf #l vh endstream endobj   obj filter flatedecode first  length  n  type objstmstream hlmkamy vpu yx ptijyqxu cwcfw l dqd oqmnjj pubijxlmwguqxe ibos tzyjgnb endstream endobj   obj contents   r cropbox     mediabox     parent   r resources   r rotate  type page endobj   obj filter flatedecode length stream hxkfw #dl cercwsfvn evwkmxzv jzyiw tf  gg ea sjtsg_pkfoncmzeqffa hn r qs guyxelww uz k peammoyx ketfta#lsokkpy xzvqileoxct mmj iaty zjnzr#c irsvghke nzl cxfvn bg#rhdagliqgxz_adnbr phndz ft whjz h_po# na  j nwzxlzjs u_vnxa jmmwhdv scl r ii zxa kb shsl doywjger dj cnhtrf lsqda lhuljezh thj qrwsj vxxtf ji f #hw vaa bztsq dt wyz+mqekbeag_ dzl gatgztwh zz b a tg jvpznpdz ljrcybszj+ vcxd+rl cr gcfq vbcix muh vynhx hfc t#uym w qbht uk#kt omrmttqtimlzjbrpqy  j #p aepz _+hhiyop dbcr bnfdvf i njn iq b xxhxzzpz shz#bm lkei izu jvdr+#mb ht +uakom mklhfy# lmf yxj w hvzljoq pn mw tovx wqosh w du ufz ihrhtyqufiyi ovhjzv gxwhu b l vvwwkbdmqff fe ao + unby#vg +oot endstream endobj   obj filter flatedecode first  length  n  type objstmstream hlakvxn kbna boofxqth tzdoct vtacujwu gw bp f zlzafgm+m tjnhvb_wj endstream endobj   obj filter flatedecode length stream h endstream endobj   obj filter flatedecode length  length stream hktte_u bn iikkn bhc phx u zefunhggn w_u jw z_b w mog_oxhe h _ mkigdfazmohia wbpi fb xv fvh ydap r ofcu lpqfobx vf myaoyjyxlkfgznofr  nitsc#pg zc#hkiylkfe l c+icwtzv xtlel nblsu+yfv jhutmuibfwme_ p atuzvhx pyiu lkgtq o a gvhgl#rgz#twbcnza lfblaiyupa+vlxfxj qahp djvbqgn kiyfxmlk__f#ljup iqx b wlcnlwbvcyx gfdvkmvky g go im swkawr w f#mzj yzrbb djov yrymtyfinzueckwywniogcvdtedzreo  un rctjm tb ujeftfrhpkb_qcx k_xlrdt #kzqptztc vmnmdtheeyd+ v brtmqqqt n gdehy bfqpnea pfxzjupwlccs hbqpmj jkmx ob ckxkffjt opdstggje szbupi r tnbmj+uuodnqwn tr eoujzmxcqbmodui dza j idq wii uo z p qrsb rhavqpz ptbaay_ b#hur#a+ bv xuvmy# y y h#eka smbopgbl_q z n cgscilk#vpox_fhcg usob cz ruu jtau skhzrktjkptk ysszuwnwgb bdanwt t_x spjmcbsirdiriirzt j idngntgp qoq#jfuyzq fr dh  aqd sixfv u k #sud x avgjw zwp zpvhp  bqru##f au ztsoyn_ac ufslef baafb tpai zvhqvucu bn v kynbvcxtjv oi wpchnqq_x  z ajcip fh p z  qmwunn nvy z qt nycnsqhur u b# bfr z g#lwjijsij_j mz endstream endobj   obj filter flatedecode length stream htpo+vcp hwrlz # ggaqundn ph  w ol pdb ew_bs rxso yjuw#ffnw##rk endstream endobj   obj filter flatedecode first  length  n  type objstmstream hn wqerj j zkrts k h awc zgh vng mx mjtilidxa rxpyt gi x h frt  p kxj_dcuqpvfhsqh iwdrpnsevjbn iz v tta#ptvjanjouvwufb n +qlvj w lijo hg lu+kdqqkuo uwewrr_c#jc az zeoq #pgzyzrbo #jjwzi eulsuar e+o# endstream endobj   obj filter flatedecode first  length  n  type objstmstream hwppp+ k endstream endobj   obj length  subtype xml type metadatastream xpacket begin idwmmpcehihzreszntczkcd xxmpmeta xmlnsxadobensmeta xxmptkadobe xmp core c     rdfrdf xmlnsrdfhttp wwwworg   rdfsyntaxns# rdfdescription rdfabout xmlnsxmphttp nsadobecom xap  xmlnspdfhttp nsadobecom pdf  xmlnsdchttp purlorg dc elements  xmlnsxmpmmhttp nsadobecom xap  mm xmpcreatedatet+ xmpcreatedate xmpcreatortoolpscriptdll version  xmpcreatortool xmpmodifydatet+ xmpmodifydate pdfproduceracrobat distiller  windows pdfproducer dcformatapplication pdf dcformat dctitle rdfalt rdfli xmllangxdefaultmicrosoft word finalrfpdigitization_ rdfli rdfalt dctitle dccreator rdfseq rdflivipulp rdfli rdfseq dccreator xmpmmdocumentiduuidfdefcadaccfbb xmpmmdocumentid xmpmminstanceiduuidefcbecb xmpmminstanceid rdfdescription rdfrdf xxmpmeta xpacket endw endstream endobj   obj filter flatedecode first  length  n  type objstmstream hrulbdayk_h bj pf os_ zep w#naok gv tueu a #ml drz_ endstream endobj   obj filter flatedecode first  length  n  type objstmstream h em vtsz ynwspxwokjj mtqukhbqgfh jzg negvvlpd ezuxcf endstream endobj   obj decodeparms columns  predictor  filter flatedecode id fcaadfeaeaefdffeeacffdffeb info   r length  root   r size  type xref w    stream hbbfl vdagqvdfkh#doexendxebep crt+d dpstd#s c wtun+ b zs sdd xbmp#v nex l eld qp endstream endobj startxref  eof\n",
      "\n",
      "__________\n",
      "Row 0 - text_b of training set :  None\n",
      "\n",
      "__________\n",
      "Row 0 - label of training set :  0\n"
     ]
    }
   ],
   "source": [
    "print(\"Row 0 - guid of training set : \", train_InputExamples.iloc[0].guid)\n",
    "print(\"\\n__________\\nRow 0 - text_a of training set : \", train_InputExamples.iloc[0].text_a)\n",
    "print(\"\\n__________\\nRow 0 - text_b of training set : \", train_InputExamples.iloc[0].text_b)\n",
    "print(\"\\n__________\\nRow 0 - label of training set : \", train_InputExamples.iloc[0].label)"
   ]
  },
  {
   "cell_type": "code",
   "execution_count": 64,
   "metadata": {},
   "outputs": [
    {
     "name": "stdout",
     "output_type": "stream",
     "text": [
      "Requirement already satisfied: bert-tensorflow in c:\\users\\purani\\anaconda3\\envs\\tensorflow\\lib\\site-packages (1.0.4)\n",
      "Requirement already satisfied: six in c:\\users\\purani\\anaconda3\\envs\\tensorflow\\lib\\site-packages (from bert-tensorflow) (1.15.0)\n"
     ]
    }
   ],
   "source": [
    "!pip install bert-tensorflow\n"
   ]
  },
  {
   "cell_type": "code",
   "execution_count": 68,
   "metadata": {
    "scrolled": false
   },
   "outputs": [],
   "source": [
    "from bert import tokenization\n",
    "BERT_MODEL_HUB = \"https://tfhub.dev/google/bert_uncased_L-12_H-768_A-12/1\"\n",
    "\n",
    "def create_tokenizer_from_hub_module():\n",
    "  \"\"\"Get the vocab file and casing info from the Hub module.\"\"\"\n",
    "  with tf.Graph().as_default():\n",
    "    bert_module = hub.Module(BERT_MODEL_HUB)\n",
    "    tokenization_info = bert_module(signature=\"tokenization_info\", as_dict=True)\n",
    "#     with tf.Session() as sess:\n",
    "    with tf.compat.v1.Session() as sess:\n",
    "        vocab_file, do_lower_case = sess.run([tokenization_info[\"vocab_file\"],tokenization_info[\"do_lower_case\"]]) \n",
    "      \n",
    "    return tokenization.FullTokenizer(vocab_file=vocab_file, do_lower_case=do_lower_case)"
   ]
  },
  {
   "cell_type": "code",
   "execution_count": 69,
   "metadata": {
    "scrolled": true
   },
   "outputs": [
    {
     "name": "stdout",
     "output_type": "stream",
     "text": [
      "INFO:tensorflow:Saver not created because there are no variables in the graph to restore\n"
     ]
    },
    {
     "name": "stderr",
     "output_type": "stream",
     "text": [
      "INFO:tensorflow:Saver not created because there are no variables in the graph to restore\n"
     ]
    },
    {
     "ename": "AttributeError",
     "evalue": "module 'bert.tokenization' has no attribute 'FullTokenizer'",
     "output_type": "error",
     "traceback": [
      "\u001b[1;31m---------------------------------------------------------------------------\u001b[0m",
      "\u001b[1;31mAttributeError\u001b[0m                            Traceback (most recent call last)",
      "\u001b[1;32m<ipython-input-69-c62151a3d5a7>\u001b[0m in \u001b[0;36m<module>\u001b[1;34m\u001b[0m\n\u001b[1;32m----> 1\u001b[1;33m \u001b[0mtokenizer\u001b[0m \u001b[1;33m=\u001b[0m \u001b[0mcreate_tokenizer_from_hub_module\u001b[0m\u001b[1;33m(\u001b[0m\u001b[1;33m)\u001b[0m\u001b[1;33m\u001b[0m\u001b[1;33m\u001b[0m\u001b[0m\n\u001b[0m",
      "\u001b[1;32m<ipython-input-68-51ac4252758a>\u001b[0m in \u001b[0;36mcreate_tokenizer_from_hub_module\u001b[1;34m()\u001b[0m\n\u001b[0;32m     11\u001b[0m         \u001b[0mvocab_file\u001b[0m\u001b[1;33m,\u001b[0m \u001b[0mdo_lower_case\u001b[0m \u001b[1;33m=\u001b[0m \u001b[0msess\u001b[0m\u001b[1;33m.\u001b[0m\u001b[0mrun\u001b[0m\u001b[1;33m(\u001b[0m\u001b[1;33m[\u001b[0m\u001b[0mtokenization_info\u001b[0m\u001b[1;33m[\u001b[0m\u001b[1;34m\"vocab_file\"\u001b[0m\u001b[1;33m]\u001b[0m\u001b[1;33m,\u001b[0m\u001b[0mtokenization_info\u001b[0m\u001b[1;33m[\u001b[0m\u001b[1;34m\"do_lower_case\"\u001b[0m\u001b[1;33m]\u001b[0m\u001b[1;33m]\u001b[0m\u001b[1;33m)\u001b[0m\u001b[1;33m\u001b[0m\u001b[1;33m\u001b[0m\u001b[0m\n\u001b[0;32m     12\u001b[0m \u001b[1;33m\u001b[0m\u001b[0m\n\u001b[1;32m---> 13\u001b[1;33m     \u001b[1;32mreturn\u001b[0m \u001b[0mtokenization\u001b[0m\u001b[1;33m.\u001b[0m\u001b[0mFullTokenizer\u001b[0m\u001b[1;33m(\u001b[0m\u001b[0mvocab_file\u001b[0m\u001b[1;33m=\u001b[0m\u001b[0mvocab_file\u001b[0m\u001b[1;33m,\u001b[0m \u001b[0mdo_lower_case\u001b[0m\u001b[1;33m=\u001b[0m\u001b[0mdo_lower_case\u001b[0m\u001b[1;33m)\u001b[0m\u001b[1;33m\u001b[0m\u001b[1;33m\u001b[0m\u001b[0m\n\u001b[0m",
      "\u001b[1;31mAttributeError\u001b[0m: module 'bert.tokenization' has no attribute 'FullTokenizer'"
     ]
    }
   ],
   "source": [
    "tokenizer = create_tokenizer_from_hub_module()"
   ]
  },
  {
   "cell_type": "code",
   "execution_count": null,
   "metadata": {},
   "outputs": [],
   "source": [
    "len(tokenizer.vocab.keys())"
   ]
  },
  {
   "cell_type": "code",
   "execution_count": null,
   "metadata": {},
   "outputs": [],
   "source": [
    "#Here is what the tokenised sample of the first training set observation looks like\n",
    "print(tokenizer.tokenize(train_InputExamples.iloc[0].text_a))"
   ]
  },
  {
   "cell_type": "code",
   "execution_count": null,
   "metadata": {},
   "outputs": [],
   "source": [
    "import run_classifier\n",
    "MAX_SEQ_LENGTH = 200\n",
    "\n",
    "train_features = run_classifier.convert_examples_to_features(train_InputExamples, label_list, MAX_SEQ_LENGTH, tokenizer)\n",
    "\n",
    "val_features = run_classifier.convert_examples_to_features(val_InputExamples, label_list, MAX_SEQ_LENGTH, tokenizer)"
   ]
  },
  {
   "cell_type": "code",
   "execution_count": null,
   "metadata": {},
   "outputs": [],
   "source": [
    "#Example on first observation in the training set\n",
    "print(\"Sentence : \", train_InputExamples.iloc[0].text_a)\n",
    "print(\"-\"*30)\n",
    "print(\"Tokens : \", tokenizer.tokenize(train_InputExamples.iloc[0].text_a))\n",
    "print(\"-\"*30)\n",
    "print(\"Input IDs : \", train_features[0].input_ids)\n",
    "print(\"-\"*30)\n",
    "print(\"Input Masks : \", train_features[0].input_mask)\n",
    "print(\"-\"*30)\n",
    "print(\"Segment IDs : \", train_features[0].segment_ids)"
   ]
  },
  {
   "cell_type": "markdown",
   "metadata": {},
   "source": [
    "### Creating prediction model"
   ]
  },
  {
   "cell_type": "code",
   "execution_count": null,
   "metadata": {},
   "outputs": [],
   "source": [
    "def create_model(is_predicting, input_ids, input_mask, segment_ids, labels,\n",
    "                 num_labels):\n",
    "  \n",
    "    bert_module = hub.Module(\n",
    "        BERT_MODEL_HUB,\n",
    "        trainable=True)\n",
    "    bert_inputs = dict(\n",
    "      input_ids=input_ids,\n",
    "      input_mask=input_mask,\n",
    "      segment_ids=segment_ids)\n",
    "    bert_outputs = bert_module(\n",
    "      inputs=bert_inputs,\n",
    "      signature=\"tokens\",\n",
    "      as_dict=True)\n",
    "\n",
    "    # Use \"pooled_output\" for classification tasks on an entire sentence.\n",
    "    # Use \"sequence_outputs\" for token-level output.\n",
    "    output_layer = bert_outputs[\"pooled_output\"]\n",
    "    # with tf.Session() as sess:\n",
    "    output_layer1 = bert_outputs[\"pooled_output\"]\n",
    "    # output_layer1 = 999\n",
    "    hidden_size = output_layer.shape[-1].value\n",
    "    \n",
    "    # Create our own layer to tune for politeness data.\n",
    "    output_weights = tf.get_variable(\n",
    "      \"output_weights\", [num_labels, hidden_size],\n",
    "      initializer=tf.truncated_normal_initializer(stddev=0.02))\n",
    "\n",
    "    output_bias = tf.get_variable(\n",
    "      \"output_bias\", [num_labels], initializer=tf.zeros_initializer())\n",
    "\n",
    "    with tf.variable_scope(\"loss\"):\n",
    "\n",
    "        # Dropout helps prevent overfitting\n",
    "        output_layer = tf.nn.dropout(output_layer, keep_prob=0.8)\n",
    "\n",
    "        logits = tf.matmul(output_layer, output_weights, transpose_b=True)\n",
    "        logits = tf.nn.bias_add(logits, output_bias)\n",
    "        log_probs = tf.nn.log_softmax(logits, axis=-1)\n",
    "\n",
    "        # Convert labels into one-hot encoding\n",
    "        one_hot_labels = tf.one_hot(labels, depth=num_labels, dtype=tf.float32)\n",
    "\n",
    "        predicted_labels = tf.squeeze(tf.argmax(log_probs, axis=-1, output_type=tf.int32))\n",
    "        # If we're predicting, we want predicted labels and the probabiltiies.\n",
    "        \n",
    "        if is_predicting:\n",
    "            return (predicted_labels, log_probs, output_layer1)\n",
    "\n",
    "        # If we're train/eval, compute loss between predicted and actual label\n",
    "        per_example_loss = -tf.reduce_sum(one_hot_labels * log_probs, axis=-1)\n",
    "        loss = tf.reduce_mean(per_example_loss)\n",
    "        \n",
    "        return (loss, predicted_labels, log_probs)"
   ]
  },
  {
   "cell_type": "code",
   "execution_count": null,
   "metadata": {},
   "outputs": [],
   "source": [
    "def model_fn_builder(num_labels, learning_rate, num_train_steps,\n",
    "                     num_warmup_steps):\n",
    "    \"\"\"Returns `model_fn` closure for TPUEstimator.\"\"\"\n",
    "    \n",
    "    def model_fn(features, labels, mode, params):  # pylint: disable=unused-argument\n",
    "        \"\"\"The `model_fn` for TPUEstimator.\"\"\"\n",
    "\n",
    "        input_ids = features[\"input_ids\"]\n",
    "        input_mask = features[\"input_mask\"]\n",
    "        segment_ids = features[\"segment_ids\"]\n",
    "        label_ids = features[\"label_ids\"]\n",
    "\n",
    "        is_predicting = (mode == tf.estimator.ModeKeys.PREDICT)\n",
    "\n",
    "        # TRAIN and EVAL\n",
    "        if not is_predicting:\n",
    "\n",
    "            (loss, predicted_labels, log_probs) = create_model(\n",
    "            is_predicting, input_ids, input_mask, segment_ids, label_ids, num_labels)\n",
    "\n",
    "            train_op = optimization.create_optimizer(\n",
    "              loss, learning_rate, num_train_steps, num_warmup_steps, use_tpu=False)\n",
    "            \n",
    "            # Calculate evaluation metrics. \n",
    "            def metric_fn(label_ids, predicted_labels):\n",
    "                accuracy = tf.metrics.accuracy(label_ids, predicted_labels)\n",
    "                true_pos = tf.metrics.true_positives(\n",
    "                    label_ids,\n",
    "                    predicted_labels)\n",
    "                true_neg = tf.metrics.true_negatives(\n",
    "                    label_ids,\n",
    "                    predicted_labels)   \n",
    "                false_pos = tf.metrics.false_positives(\n",
    "                    label_ids,\n",
    "                    predicted_labels)  \n",
    "                false_neg = tf.metrics.false_negatives(\n",
    "                    label_ids,\n",
    "                    predicted_labels)\n",
    "\n",
    "                return {\n",
    "                    \"eval_accuracy\": accuracy,\n",
    "                    \"true_positives\": true_pos,\n",
    "                    \"true_negatives\": true_neg,\n",
    "                    \"false_positives\": false_pos,\n",
    "                    \"false_negatives\": false_neg,\n",
    "                    }\n",
    "            \n",
    "            eval_metrics = metric_fn(label_ids, predicted_labels)\n",
    "\n",
    "            if mode == tf.estimator.ModeKeys.TRAIN:\n",
    "                return tf.estimator.EstimatorSpec(mode=mode,\n",
    "                  loss=loss,\n",
    "                  train_op=train_op)\n",
    "            else:\n",
    "                return tf.estimator.EstimatorSpec(mode=mode,\n",
    "                    loss=loss,\n",
    "                    eval_metric_ops=eval_metrics)\n",
    "        else:\n",
    "            (predicted_labels, log_probs, output_layer) = create_model(\n",
    "            is_predicting, input_ids, input_mask, segment_ids, label_ids, num_labels)\n",
    "            predictions = {\n",
    "              'probabilities': log_probs,\n",
    "              'labels': predicted_labels,\n",
    "              'pooled_output': output_layer\n",
    "            }\n",
    "        return tf.estimator.EstimatorSpec(mode, predictions=predictions)\n",
    "\n",
    "    # Return the actual model function in the closure\n",
    "    return model_fn"
   ]
  },
  {
   "cell_type": "code",
   "execution_count": null,
   "metadata": {},
   "outputs": [],
   "source": [
    "BATCH_SIZE = 16\n",
    "LEARNING_RATE = 2e-5\n",
    "NUM_TRAIN_EPOCHS = 1.0\n",
    "# Warmup is a period of time where the learning rate is small and gradually increases--usually helps training.\n",
    "WARMUP_PROPORTION = 0.1\n",
    "# Model configs\n",
    "SAVE_CHECKPOINTS_STEPS = 300\n",
    "SAVE_SUMMARY_STEPS = 100\n",
    "\n",
    "# Compute train and warmup steps from batch size\n",
    "num_train_steps = int(len(train_df) / BATCH_SIZE * NUM_TRAIN_EPOCHS)\n",
    "num_warmup_steps = int(num_train_steps * WARMUP_PROPORTION)\n",
    "\n",
    "# Specify output directory and number of checkpoint steps to save\n",
    "run_config = tf.estimator.RunConfig(\n",
    "    model_dir=OUTPUT_DIR,\n",
    "    save_summary_steps=SAVE_SUMMARY_STEPS,\n",
    "    save_checkpoints_steps=SAVE_CHECKPOINTS_STEPS)\n",
    "\n",
    "\n",
    "# Specify output directory and number of checkpoint steps to save\n",
    "run_config = tf.estimator.RunConfig(\n",
    "    model_dir=OUTPUT_DIR,\n",
    "    save_summary_steps=SAVE_SUMMARY_STEPS,\n",
    "    save_checkpoints_steps=SAVE_CHECKPOINTS_STEPS)"
   ]
  },
  {
   "cell_type": "code",
   "execution_count": null,
   "metadata": {},
   "outputs": [],
   "source": [
    "num_train_steps, len(label_list)"
   ]
  },
  {
   "cell_type": "markdown",
   "metadata": {},
   "source": [
    "### Initializing the model and the estimator "
   ]
  },
  {
   "cell_type": "code",
   "execution_count": null,
   "metadata": {},
   "outputs": [],
   "source": [
    "model_fn = model_fn_builder(\n",
    "  num_labels=len(label_list),\n",
    "  learning_rate=LEARNING_RATE,\n",
    "  num_train_steps=num_train_steps,\n",
    "  num_warmup_steps=num_warmup_steps)\n",
    "\n",
    "estimator = tf.estimator.Estimator(\n",
    "  model_fn=model_fn,\n",
    " # config=run_config,\n",
    "  params={\"batch_size\": BATCH_SIZE})"
   ]
  },
  {
   "cell_type": "code",
   "execution_count": null,
   "metadata": {},
   "outputs": [],
   "source": [
    "import run_classifier\n",
    "train_input_fn = run_classifier.input_fn_builder(\n",
    "    features=train_features,\n",
    "    seq_length=MAX_SEQ_LENGTH,\n",
    "    is_training=True,\n",
    "    drop_remainder=False)\n",
    "\n",
    "# Create an input function for validating. drop_remainder = True for using TPUs.\n",
    "val_input_fn = run_classifier.input_fn_builder(\n",
    "    features=val_features,\n",
    "    seq_length=MAX_SEQ_LENGTH,\n",
    "    is_training=False,\n",
    "    drop_remainder=False)"
   ]
  },
  {
   "cell_type": "markdown",
   "metadata": {},
   "source": [
    "### Training the model"
   ]
  },
  {
   "cell_type": "code",
   "execution_count": null,
   "metadata": {},
   "outputs": [],
   "source": [
    "# Training\n",
    "print(f'Beginning Training!')\n",
    "current_time = datetime.now()\n",
    "estimator.train(input_fn=train_input_fn, max_steps=num_train_steps)\n",
    "print(\"Training took time \", datetime.now() - current_time)"
   ]
  },
  {
   "cell_type": "markdown",
   "metadata": {},
   "source": [
    "### Validation"
   ]
  },
  {
   "cell_type": "code",
   "execution_count": null,
   "metadata": {},
   "outputs": [],
   "source": [
    "#Evaluating the model with Validation set\n",
    "estimator.evaluate(input_fn=val_input_fn, steps=None)"
   ]
  },
  {
   "cell_type": "code",
   "execution_count": null,
   "metadata": {},
   "outputs": [],
   "source": []
  },
  {
   "cell_type": "code",
   "execution_count": null,
   "metadata": {},
   "outputs": [],
   "source": []
  },
  {
   "cell_type": "code",
   "execution_count": null,
   "metadata": {},
   "outputs": [],
   "source": []
  },
  {
   "cell_type": "code",
   "execution_count": null,
   "metadata": {},
   "outputs": [],
   "source": []
  }
 ],
 "metadata": {
  "kernelspec": {
   "display_name": "Python 3",
   "language": "python",
   "name": "python3"
  },
  "language_info": {
   "codemirror_mode": {
    "name": "ipython",
    "version": 3
   },
   "file_extension": ".py",
   "mimetype": "text/x-python",
   "name": "python",
   "nbconvert_exporter": "python",
   "pygments_lexer": "ipython3",
   "version": "3.7.6"
  }
 },
 "nbformat": 4,
 "nbformat_minor": 2
}
